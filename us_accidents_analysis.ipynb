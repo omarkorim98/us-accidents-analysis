{
  "cells": [
    {
      "cell_type": "code",
      "execution_count": null,
      "metadata": {
        "colab": {
          "base_uri": "https://localhost:8080/"
        },
        "id": "uXDxSygg1ru0",
        "outputId": "464f2516-4844-4018-d4f9-9f87971e89ef"
      },
      "outputs": [
        {
          "output_type": "stream",
          "name": "stdout",
          "text": [
            "\u001b[?25l\r\u001b[K     |████▊                           | 10 kB 13.4 MB/s eta 0:00:01\r\u001b[K     |█████████▌                      | 20 kB 7.7 MB/s eta 0:00:01\r\u001b[K     |██████████████▎                 | 30 kB 10.6 MB/s eta 0:00:01\r\u001b[K     |███████████████████             | 40 kB 7.7 MB/s eta 0:00:01\r\u001b[K     |███████████████████████▉        | 51 kB 7.2 MB/s eta 0:00:01\r\u001b[K     |████████████████████████████▋   | 61 kB 8.4 MB/s eta 0:00:01\r\u001b[K     |████████████████████████████████| 68 kB 4.1 MB/s \n",
            "\u001b[?25h  Building wheel for uuid (setup.py) ... \u001b[?25l\u001b[?25hdone\n"
          ]
        }
      ],
      "source": [
        "# Jovian Commit Essentials\n",
        "# Please retain and execute this cell without modifying the contents for `jovian.commit` to work\n",
        "!pip install jovian --upgrade -q\n",
        "import jovian\n",
        "jovian.set_project('us-accient-analysis')\n",
        "jovian.set_colab_id('1ssCBrIVtasszgXVImE8wxtKvvaA6PS6u')"
      ]
    },
    {
      "cell_type": "markdown",
      "source": [
        "# US Accidents Exploratory Data Analysis\n",
        "\n",
        "TODO - talk about EDA\n",
        "\n",
        "TODO - talk about the dataset (source, \n",
        "what it contains, how it will be useful)\n",
        "   - Kaggle\n",
        "   - Information about accidents\n",
        "   - can be useful to prevent accidents\n",
        "   - This doesn't contain data about NY."
      ],
      "metadata": {
        "id": "rnltEuxT2TAI"
      }
    },
    {
      "cell_type": "code",
      "source": [
        "#Importing needed libraries\n",
        "import pandas as pd\n",
        "import seaborn as sns\n",
        "  #opdendatasets is used to import data from kaggle without need to download it\n",
        "import opendatasets as od\n",
        "  #folium makes it easy to visualize data that's been manipulated in Python on an interactive leaflet map\n",
        "import folium\n",
        "from folium.plugins import HeatMap"
      ],
      "metadata": {
        "id": "qai3CtzdgGwI"
      },
      "execution_count": null,
      "outputs": []
    },
    {
      "cell_type": "markdown",
      "source": [
        "## Download The Data"
      ],
      "metadata": {
        "id": "TNtUmKpe75gB"
      }
    },
    {
      "cell_type": "code",
      "source": [
        "pip install opendatasets --upgrade"
      ],
      "metadata": {
        "colab": {
          "base_uri": "https://localhost:8080/"
        },
        "id": "u9OwGwbm2TPF",
        "outputId": "70cfd6e6-0e9e-4c3f-c9cb-1d77452cebd2"
      },
      "execution_count": null,
      "outputs": [
        {
          "output_type": "stream",
          "name": "stdout",
          "text": [
            "Looking in indexes: https://pypi.org/simple, https://us-python.pkg.dev/colab-wheels/public/simple/\n",
            "Collecting opendatasets\n",
            "  Downloading opendatasets-0.1.22-py3-none-any.whl (15 kB)\n",
            "Requirement already satisfied: tqdm in /usr/local/lib/python3.7/dist-packages (from opendatasets) (4.64.1)\n",
            "Requirement already satisfied: click in /usr/local/lib/python3.7/dist-packages (from opendatasets) (7.1.2)\n",
            "Requirement already satisfied: kaggle in /usr/local/lib/python3.7/dist-packages (from opendatasets) (1.5.12)\n",
            "Requirement already satisfied: python-dateutil in /usr/local/lib/python3.7/dist-packages (from kaggle->opendatasets) (2.8.2)\n",
            "Requirement already satisfied: requests in /usr/local/lib/python3.7/dist-packages (from kaggle->opendatasets) (2.23.0)\n",
            "Requirement already satisfied: urllib3 in /usr/local/lib/python3.7/dist-packages (from kaggle->opendatasets) (1.24.3)\n",
            "Requirement already satisfied: python-slugify in /usr/local/lib/python3.7/dist-packages (from kaggle->opendatasets) (6.1.2)\n",
            "Requirement already satisfied: certifi in /usr/local/lib/python3.7/dist-packages (from kaggle->opendatasets) (2022.6.15)\n",
            "Requirement already satisfied: six>=1.10 in /usr/local/lib/python3.7/dist-packages (from kaggle->opendatasets) (1.15.0)\n",
            "Requirement already satisfied: text-unidecode>=1.3 in /usr/local/lib/python3.7/dist-packages (from python-slugify->kaggle->opendatasets) (1.3)\n",
            "Requirement already satisfied: idna<3,>=2.5 in /usr/local/lib/python3.7/dist-packages (from requests->kaggle->opendatasets) (2.10)\n",
            "Requirement already satisfied: chardet<4,>=3.0.2 in /usr/local/lib/python3.7/dist-packages (from requests->kaggle->opendatasets) (3.0.4)\n",
            "Installing collected packages: opendatasets\n",
            "Successfully installed opendatasets-0.1.22\n"
          ]
        }
      ]
    },
    {
      "cell_type": "code",
      "source": [
        "# Importing our datasets by opendatasets by jovain tool from github\n",
        "dataset_url = 'https://www.kaggle.com/datasets/sobhanmoosavi/us-accidents'\n",
        "od.download(dataset_url)"
      ],
      "metadata": {
        "colab": {
          "base_uri": "https://localhost:8080/"
        },
        "id": "3zK31pDs5tjB",
        "outputId": "e133ecaf-e269-40af-ca2b-8deee5929035"
      },
      "execution_count": null,
      "outputs": [
        {
          "output_type": "stream",
          "name": "stdout",
          "text": [
            "Please provide your Kaggle credentials to download this dataset. Learn more: http://bit.ly/kaggle-creds\n",
            "Your Kaggle username: omarkorim\n",
            "Your Kaggle Key: ··········\n",
            "Downloading us-accidents.zip to ./us-accidents\n"
          ]
        },
        {
          "output_type": "stream",
          "name": "stderr",
          "text": [
            "100%|██████████| 269M/269M [00:02<00:00, 126MB/s]"
          ]
        },
        {
          "output_type": "stream",
          "name": "stdout",
          "text": [
            "\n"
          ]
        },
        {
          "output_type": "stream",
          "name": "stderr",
          "text": [
            "\n"
          ]
        }
      ]
    },
    {
      "cell_type": "code",
      "source": [
        "data_filename='./us-accidents/US_Accidents_Dec21_updated.csv'"
      ],
      "metadata": {
        "id": "JFztedVn7UaU"
      },
      "execution_count": null,
      "outputs": []
    },
    {
      "cell_type": "markdown",
      "source": [
        "## Data Preparation and Cleaning\n",
        "   1. Load the file using Pandas\n",
        "   2. Look about some information about the data & the columns\n",
        "   3. Fix any missing or incorrect values"
      ],
      "metadata": {
        "id": "nGJvPPq121X9"
      }
    },
    {
      "cell_type": "code",
      "source": [
        "df=pd.read_csv(data_filename)\n",
        "df"
      ],
      "metadata": {
        "id": "6CwomFwo893_",
        "colab": {
          "base_uri": "https://localhost:8080/",
          "height": 766
        },
        "outputId": "a0395840-afb1-4428-f900-7ea61482f6a5"
      },
      "execution_count": null,
      "outputs": [
        {
          "output_type": "execute_result",
          "data": {
            "text/plain": [
              "                ID  Severity           Start_Time             End_Time  \\\n",
              "0              A-1         3  2016-02-08 00:37:08  2016-02-08 06:37:08   \n",
              "1              A-2         2  2016-02-08 05:56:20  2016-02-08 11:56:20   \n",
              "2              A-3         2  2016-02-08 06:15:39  2016-02-08 12:15:39   \n",
              "3              A-4         2  2016-02-08 06:51:45  2016-02-08 12:51:45   \n",
              "4              A-5         3  2016-02-08 07:53:43  2016-02-08 13:53:43   \n",
              "...            ...       ...                  ...                  ...   \n",
              "2845337  A-2845338         2  2019-08-23 18:03:25  2019-08-23 18:32:01   \n",
              "2845338  A-2845339         2  2019-08-23 19:11:30  2019-08-23 19:38:23   \n",
              "2845339  A-2845340         2  2019-08-23 19:00:21  2019-08-23 19:28:49   \n",
              "2845340  A-2845341         2  2019-08-23 19:00:21  2019-08-23 19:29:42   \n",
              "2845341  A-2845342         2  2019-08-23 18:52:06  2019-08-23 19:21:31   \n",
              "\n",
              "         Start_Lat   Start_Lng    End_Lat     End_Lng  Distance(mi)  \\\n",
              "0        40.108910  -83.092860  40.112060  -83.031870         3.230   \n",
              "1        39.865420  -84.062800  39.865010  -84.048730         0.747   \n",
              "2        39.102660  -84.524680  39.102090  -84.523960         0.055   \n",
              "3        41.062130  -81.537840  41.062170  -81.535470         0.123   \n",
              "4        39.172393  -84.492792  39.170476  -84.501798         0.500   \n",
              "...            ...         ...        ...         ...           ...   \n",
              "2845337  34.002480 -117.379360  33.998880 -117.370940         0.543   \n",
              "2845338  32.766960 -117.148060  32.765550 -117.153630         0.338   \n",
              "2845339  33.775450 -117.847790  33.777400 -117.857270         0.561   \n",
              "2845340  33.992460 -118.403020  33.983110 -118.395650         0.772   \n",
              "2845341  34.133930 -117.230920  34.137360 -117.239340         0.537   \n",
              "\n",
              "                                               Description  ...  Roundabout  \\\n",
              "0        Between Sawmill Rd/Exit 20 and OH-315/Olentang...  ...       False   \n",
              "1                       At OH-4/OH-235/Exit 41 - Accident.  ...       False   \n",
              "2                         At I-71/US-50/Exit 1 - Accident.  ...       False   \n",
              "3                          At Dart Ave/Exit 21 - Accident.  ...       False   \n",
              "4                       At Mitchell Ave/Exit 6 - Accident.  ...       False   \n",
              "...                                                    ...  ...         ...   \n",
              "2845337                           At Market St - Accident.  ...       False   \n",
              "2845338    At Camino Del Rio/Mission Center Rd - Accident.  ...       False   \n",
              "2845339  At Glassell St/Grand Ave - Accident. in the ri...  ...       False   \n",
              "2845340     At CA-90/Marina Fwy/Jefferson Blvd - Accident.  ...       False   \n",
              "2845341              At Highland Ave/Arden Ave - Accident.  ...       False   \n",
              "\n",
              "        Station   Stop Traffic_Calming Traffic_Signal Turning_Loop  \\\n",
              "0         False  False           False          False        False   \n",
              "1         False  False           False          False        False   \n",
              "2         False  False           False          False        False   \n",
              "3         False  False           False          False        False   \n",
              "4         False  False           False          False        False   \n",
              "...         ...    ...             ...            ...          ...   \n",
              "2845337   False  False           False          False        False   \n",
              "2845338   False  False           False          False        False   \n",
              "2845339   False  False           False          False        False   \n",
              "2845340   False  False           False          False        False   \n",
              "2845341   False  False           False          False        False   \n",
              "\n",
              "        Sunrise_Sunset Civil_Twilight Nautical_Twilight Astronomical_Twilight  \n",
              "0                Night          Night             Night                 Night  \n",
              "1                Night          Night             Night                 Night  \n",
              "2                Night          Night             Night                   Day  \n",
              "3                Night          Night               Day                   Day  \n",
              "4                  Day            Day               Day                   Day  \n",
              "...                ...            ...               ...                   ...  \n",
              "2845337            Day            Day               Day                   Day  \n",
              "2845338            Day            Day               Day                   Day  \n",
              "2845339            Day            Day               Day                   Day  \n",
              "2845340            Day            Day               Day                   Day  \n",
              "2845341            Day            Day               Day                   Day  \n",
              "\n",
              "[2845342 rows x 47 columns]"
            ],
            "text/html": [
              "\n",
              "  <div id=\"df-c2914d10-9529-4b9b-bac0-d4672f22045f\">\n",
              "    <div class=\"colab-df-container\">\n",
              "      <div>\n",
              "<style scoped>\n",
              "    .dataframe tbody tr th:only-of-type {\n",
              "        vertical-align: middle;\n",
              "    }\n",
              "\n",
              "    .dataframe tbody tr th {\n",
              "        vertical-align: top;\n",
              "    }\n",
              "\n",
              "    .dataframe thead th {\n",
              "        text-align: right;\n",
              "    }\n",
              "</style>\n",
              "<table border=\"1\" class=\"dataframe\">\n",
              "  <thead>\n",
              "    <tr style=\"text-align: right;\">\n",
              "      <th></th>\n",
              "      <th>ID</th>\n",
              "      <th>Severity</th>\n",
              "      <th>Start_Time</th>\n",
              "      <th>End_Time</th>\n",
              "      <th>Start_Lat</th>\n",
              "      <th>Start_Lng</th>\n",
              "      <th>End_Lat</th>\n",
              "      <th>End_Lng</th>\n",
              "      <th>Distance(mi)</th>\n",
              "      <th>Description</th>\n",
              "      <th>...</th>\n",
              "      <th>Roundabout</th>\n",
              "      <th>Station</th>\n",
              "      <th>Stop</th>\n",
              "      <th>Traffic_Calming</th>\n",
              "      <th>Traffic_Signal</th>\n",
              "      <th>Turning_Loop</th>\n",
              "      <th>Sunrise_Sunset</th>\n",
              "      <th>Civil_Twilight</th>\n",
              "      <th>Nautical_Twilight</th>\n",
              "      <th>Astronomical_Twilight</th>\n",
              "    </tr>\n",
              "  </thead>\n",
              "  <tbody>\n",
              "    <tr>\n",
              "      <th>0</th>\n",
              "      <td>A-1</td>\n",
              "      <td>3</td>\n",
              "      <td>2016-02-08 00:37:08</td>\n",
              "      <td>2016-02-08 06:37:08</td>\n",
              "      <td>40.108910</td>\n",
              "      <td>-83.092860</td>\n",
              "      <td>40.112060</td>\n",
              "      <td>-83.031870</td>\n",
              "      <td>3.230</td>\n",
              "      <td>Between Sawmill Rd/Exit 20 and OH-315/Olentang...</td>\n",
              "      <td>...</td>\n",
              "      <td>False</td>\n",
              "      <td>False</td>\n",
              "      <td>False</td>\n",
              "      <td>False</td>\n",
              "      <td>False</td>\n",
              "      <td>False</td>\n",
              "      <td>Night</td>\n",
              "      <td>Night</td>\n",
              "      <td>Night</td>\n",
              "      <td>Night</td>\n",
              "    </tr>\n",
              "    <tr>\n",
              "      <th>1</th>\n",
              "      <td>A-2</td>\n",
              "      <td>2</td>\n",
              "      <td>2016-02-08 05:56:20</td>\n",
              "      <td>2016-02-08 11:56:20</td>\n",
              "      <td>39.865420</td>\n",
              "      <td>-84.062800</td>\n",
              "      <td>39.865010</td>\n",
              "      <td>-84.048730</td>\n",
              "      <td>0.747</td>\n",
              "      <td>At OH-4/OH-235/Exit 41 - Accident.</td>\n",
              "      <td>...</td>\n",
              "      <td>False</td>\n",
              "      <td>False</td>\n",
              "      <td>False</td>\n",
              "      <td>False</td>\n",
              "      <td>False</td>\n",
              "      <td>False</td>\n",
              "      <td>Night</td>\n",
              "      <td>Night</td>\n",
              "      <td>Night</td>\n",
              "      <td>Night</td>\n",
              "    </tr>\n",
              "    <tr>\n",
              "      <th>2</th>\n",
              "      <td>A-3</td>\n",
              "      <td>2</td>\n",
              "      <td>2016-02-08 06:15:39</td>\n",
              "      <td>2016-02-08 12:15:39</td>\n",
              "      <td>39.102660</td>\n",
              "      <td>-84.524680</td>\n",
              "      <td>39.102090</td>\n",
              "      <td>-84.523960</td>\n",
              "      <td>0.055</td>\n",
              "      <td>At I-71/US-50/Exit 1 - Accident.</td>\n",
              "      <td>...</td>\n",
              "      <td>False</td>\n",
              "      <td>False</td>\n",
              "      <td>False</td>\n",
              "      <td>False</td>\n",
              "      <td>False</td>\n",
              "      <td>False</td>\n",
              "      <td>Night</td>\n",
              "      <td>Night</td>\n",
              "      <td>Night</td>\n",
              "      <td>Day</td>\n",
              "    </tr>\n",
              "    <tr>\n",
              "      <th>3</th>\n",
              "      <td>A-4</td>\n",
              "      <td>2</td>\n",
              "      <td>2016-02-08 06:51:45</td>\n",
              "      <td>2016-02-08 12:51:45</td>\n",
              "      <td>41.062130</td>\n",
              "      <td>-81.537840</td>\n",
              "      <td>41.062170</td>\n",
              "      <td>-81.535470</td>\n",
              "      <td>0.123</td>\n",
              "      <td>At Dart Ave/Exit 21 - Accident.</td>\n",
              "      <td>...</td>\n",
              "      <td>False</td>\n",
              "      <td>False</td>\n",
              "      <td>False</td>\n",
              "      <td>False</td>\n",
              "      <td>False</td>\n",
              "      <td>False</td>\n",
              "      <td>Night</td>\n",
              "      <td>Night</td>\n",
              "      <td>Day</td>\n",
              "      <td>Day</td>\n",
              "    </tr>\n",
              "    <tr>\n",
              "      <th>4</th>\n",
              "      <td>A-5</td>\n",
              "      <td>3</td>\n",
              "      <td>2016-02-08 07:53:43</td>\n",
              "      <td>2016-02-08 13:53:43</td>\n",
              "      <td>39.172393</td>\n",
              "      <td>-84.492792</td>\n",
              "      <td>39.170476</td>\n",
              "      <td>-84.501798</td>\n",
              "      <td>0.500</td>\n",
              "      <td>At Mitchell Ave/Exit 6 - Accident.</td>\n",
              "      <td>...</td>\n",
              "      <td>False</td>\n",
              "      <td>False</td>\n",
              "      <td>False</td>\n",
              "      <td>False</td>\n",
              "      <td>False</td>\n",
              "      <td>False</td>\n",
              "      <td>Day</td>\n",
              "      <td>Day</td>\n",
              "      <td>Day</td>\n",
              "      <td>Day</td>\n",
              "    </tr>\n",
              "    <tr>\n",
              "      <th>...</th>\n",
              "      <td>...</td>\n",
              "      <td>...</td>\n",
              "      <td>...</td>\n",
              "      <td>...</td>\n",
              "      <td>...</td>\n",
              "      <td>...</td>\n",
              "      <td>...</td>\n",
              "      <td>...</td>\n",
              "      <td>...</td>\n",
              "      <td>...</td>\n",
              "      <td>...</td>\n",
              "      <td>...</td>\n",
              "      <td>...</td>\n",
              "      <td>...</td>\n",
              "      <td>...</td>\n",
              "      <td>...</td>\n",
              "      <td>...</td>\n",
              "      <td>...</td>\n",
              "      <td>...</td>\n",
              "      <td>...</td>\n",
              "      <td>...</td>\n",
              "    </tr>\n",
              "    <tr>\n",
              "      <th>2845337</th>\n",
              "      <td>A-2845338</td>\n",
              "      <td>2</td>\n",
              "      <td>2019-08-23 18:03:25</td>\n",
              "      <td>2019-08-23 18:32:01</td>\n",
              "      <td>34.002480</td>\n",
              "      <td>-117.379360</td>\n",
              "      <td>33.998880</td>\n",
              "      <td>-117.370940</td>\n",
              "      <td>0.543</td>\n",
              "      <td>At Market St - Accident.</td>\n",
              "      <td>...</td>\n",
              "      <td>False</td>\n",
              "      <td>False</td>\n",
              "      <td>False</td>\n",
              "      <td>False</td>\n",
              "      <td>False</td>\n",
              "      <td>False</td>\n",
              "      <td>Day</td>\n",
              "      <td>Day</td>\n",
              "      <td>Day</td>\n",
              "      <td>Day</td>\n",
              "    </tr>\n",
              "    <tr>\n",
              "      <th>2845338</th>\n",
              "      <td>A-2845339</td>\n",
              "      <td>2</td>\n",
              "      <td>2019-08-23 19:11:30</td>\n",
              "      <td>2019-08-23 19:38:23</td>\n",
              "      <td>32.766960</td>\n",
              "      <td>-117.148060</td>\n",
              "      <td>32.765550</td>\n",
              "      <td>-117.153630</td>\n",
              "      <td>0.338</td>\n",
              "      <td>At Camino Del Rio/Mission Center Rd - Accident.</td>\n",
              "      <td>...</td>\n",
              "      <td>False</td>\n",
              "      <td>False</td>\n",
              "      <td>False</td>\n",
              "      <td>False</td>\n",
              "      <td>False</td>\n",
              "      <td>False</td>\n",
              "      <td>Day</td>\n",
              "      <td>Day</td>\n",
              "      <td>Day</td>\n",
              "      <td>Day</td>\n",
              "    </tr>\n",
              "    <tr>\n",
              "      <th>2845339</th>\n",
              "      <td>A-2845340</td>\n",
              "      <td>2</td>\n",
              "      <td>2019-08-23 19:00:21</td>\n",
              "      <td>2019-08-23 19:28:49</td>\n",
              "      <td>33.775450</td>\n",
              "      <td>-117.847790</td>\n",
              "      <td>33.777400</td>\n",
              "      <td>-117.857270</td>\n",
              "      <td>0.561</td>\n",
              "      <td>At Glassell St/Grand Ave - Accident. in the ri...</td>\n",
              "      <td>...</td>\n",
              "      <td>False</td>\n",
              "      <td>False</td>\n",
              "      <td>False</td>\n",
              "      <td>False</td>\n",
              "      <td>False</td>\n",
              "      <td>False</td>\n",
              "      <td>Day</td>\n",
              "      <td>Day</td>\n",
              "      <td>Day</td>\n",
              "      <td>Day</td>\n",
              "    </tr>\n",
              "    <tr>\n",
              "      <th>2845340</th>\n",
              "      <td>A-2845341</td>\n",
              "      <td>2</td>\n",
              "      <td>2019-08-23 19:00:21</td>\n",
              "      <td>2019-08-23 19:29:42</td>\n",
              "      <td>33.992460</td>\n",
              "      <td>-118.403020</td>\n",
              "      <td>33.983110</td>\n",
              "      <td>-118.395650</td>\n",
              "      <td>0.772</td>\n",
              "      <td>At CA-90/Marina Fwy/Jefferson Blvd - Accident.</td>\n",
              "      <td>...</td>\n",
              "      <td>False</td>\n",
              "      <td>False</td>\n",
              "      <td>False</td>\n",
              "      <td>False</td>\n",
              "      <td>False</td>\n",
              "      <td>False</td>\n",
              "      <td>Day</td>\n",
              "      <td>Day</td>\n",
              "      <td>Day</td>\n",
              "      <td>Day</td>\n",
              "    </tr>\n",
              "    <tr>\n",
              "      <th>2845341</th>\n",
              "      <td>A-2845342</td>\n",
              "      <td>2</td>\n",
              "      <td>2019-08-23 18:52:06</td>\n",
              "      <td>2019-08-23 19:21:31</td>\n",
              "      <td>34.133930</td>\n",
              "      <td>-117.230920</td>\n",
              "      <td>34.137360</td>\n",
              "      <td>-117.239340</td>\n",
              "      <td>0.537</td>\n",
              "      <td>At Highland Ave/Arden Ave - Accident.</td>\n",
              "      <td>...</td>\n",
              "      <td>False</td>\n",
              "      <td>False</td>\n",
              "      <td>False</td>\n",
              "      <td>False</td>\n",
              "      <td>False</td>\n",
              "      <td>False</td>\n",
              "      <td>Day</td>\n",
              "      <td>Day</td>\n",
              "      <td>Day</td>\n",
              "      <td>Day</td>\n",
              "    </tr>\n",
              "  </tbody>\n",
              "</table>\n",
              "<p>2845342 rows × 47 columns</p>\n",
              "</div>\n",
              "      <button class=\"colab-df-convert\" onclick=\"convertToInteractive('df-c2914d10-9529-4b9b-bac0-d4672f22045f')\"\n",
              "              title=\"Convert this dataframe to an interactive table.\"\n",
              "              style=\"display:none;\">\n",
              "        \n",
              "  <svg xmlns=\"http://www.w3.org/2000/svg\" height=\"24px\"viewBox=\"0 0 24 24\"\n",
              "       width=\"24px\">\n",
              "    <path d=\"M0 0h24v24H0V0z\" fill=\"none\"/>\n",
              "    <path d=\"M18.56 5.44l.94 2.06.94-2.06 2.06-.94-2.06-.94-.94-2.06-.94 2.06-2.06.94zm-11 1L8.5 8.5l.94-2.06 2.06-.94-2.06-.94L8.5 2.5l-.94 2.06-2.06.94zm10 10l.94 2.06.94-2.06 2.06-.94-2.06-.94-.94-2.06-.94 2.06-2.06.94z\"/><path d=\"M17.41 7.96l-1.37-1.37c-.4-.4-.92-.59-1.43-.59-.52 0-1.04.2-1.43.59L10.3 9.45l-7.72 7.72c-.78.78-.78 2.05 0 2.83L4 21.41c.39.39.9.59 1.41.59.51 0 1.02-.2 1.41-.59l7.78-7.78 2.81-2.81c.8-.78.8-2.07 0-2.86zM5.41 20L4 18.59l7.72-7.72 1.47 1.35L5.41 20z\"/>\n",
              "  </svg>\n",
              "      </button>\n",
              "      \n",
              "  <style>\n",
              "    .colab-df-container {\n",
              "      display:flex;\n",
              "      flex-wrap:wrap;\n",
              "      gap: 12px;\n",
              "    }\n",
              "\n",
              "    .colab-df-convert {\n",
              "      background-color: #E8F0FE;\n",
              "      border: none;\n",
              "      border-radius: 50%;\n",
              "      cursor: pointer;\n",
              "      display: none;\n",
              "      fill: #1967D2;\n",
              "      height: 32px;\n",
              "      padding: 0 0 0 0;\n",
              "      width: 32px;\n",
              "    }\n",
              "\n",
              "    .colab-df-convert:hover {\n",
              "      background-color: #E2EBFA;\n",
              "      box-shadow: 0px 1px 2px rgba(60, 64, 67, 0.3), 0px 1px 3px 1px rgba(60, 64, 67, 0.15);\n",
              "      fill: #174EA6;\n",
              "    }\n",
              "\n",
              "    [theme=dark] .colab-df-convert {\n",
              "      background-color: #3B4455;\n",
              "      fill: #D2E3FC;\n",
              "    }\n",
              "\n",
              "    [theme=dark] .colab-df-convert:hover {\n",
              "      background-color: #434B5C;\n",
              "      box-shadow: 0px 1px 3px 1px rgba(0, 0, 0, 0.15);\n",
              "      filter: drop-shadow(0px 1px 2px rgba(0, 0, 0, 0.3));\n",
              "      fill: #FFFFFF;\n",
              "    }\n",
              "  </style>\n",
              "\n",
              "      <script>\n",
              "        const buttonEl =\n",
              "          document.querySelector('#df-c2914d10-9529-4b9b-bac0-d4672f22045f button.colab-df-convert');\n",
              "        buttonEl.style.display =\n",
              "          google.colab.kernel.accessAllowed ? 'block' : 'none';\n",
              "\n",
              "        async function convertToInteractive(key) {\n",
              "          const element = document.querySelector('#df-c2914d10-9529-4b9b-bac0-d4672f22045f');\n",
              "          const dataTable =\n",
              "            await google.colab.kernel.invokeFunction('convertToInteractive',\n",
              "                                                     [key], {});\n",
              "          if (!dataTable) return;\n",
              "\n",
              "          const docLinkHtml = 'Like what you see? Visit the ' +\n",
              "            '<a target=\"_blank\" href=https://colab.research.google.com/notebooks/data_table.ipynb>data table notebook</a>'\n",
              "            + ' to learn more about interactive tables.';\n",
              "          element.innerHTML = '';\n",
              "          dataTable['output_type'] = 'display_data';\n",
              "          await google.colab.output.renderOutput(dataTable, element);\n",
              "          const docLink = document.createElement('div');\n",
              "          docLink.innerHTML = docLinkHtml;\n",
              "          element.appendChild(docLink);\n",
              "        }\n",
              "      </script>\n",
              "    </div>\n",
              "  </div>\n",
              "  "
            ]
          },
          "metadata": {},
          "execution_count": 17
        }
      ]
    },
    {
      "cell_type": "code",
      "source": [
        "df.info()"
      ],
      "metadata": {
        "colab": {
          "base_uri": "https://localhost:8080/"
        },
        "id": "ct5y8gTZ-GR5",
        "outputId": "0d4cf7cd-2db6-4091-ca8f-c3b498b9e5fc"
      },
      "execution_count": null,
      "outputs": [
        {
          "output_type": "stream",
          "name": "stdout",
          "text": [
            "<class 'pandas.core.frame.DataFrame'>\n",
            "RangeIndex: 2845342 entries, 0 to 2845341\n",
            "Data columns (total 47 columns):\n",
            " #   Column                 Dtype  \n",
            "---  ------                 -----  \n",
            " 0   ID                     object \n",
            " 1   Severity               int64  \n",
            " 2   Start_Time             object \n",
            " 3   End_Time               object \n",
            " 4   Start_Lat              float64\n",
            " 5   Start_Lng              float64\n",
            " 6   End_Lat                float64\n",
            " 7   End_Lng                float64\n",
            " 8   Distance(mi)           float64\n",
            " 9   Description            object \n",
            " 10  Number                 float64\n",
            " 11  Street                 object \n",
            " 12  Side                   object \n",
            " 13  City                   object \n",
            " 14  County                 object \n",
            " 15  State                  object \n",
            " 16  Zipcode                object \n",
            " 17  Country                object \n",
            " 18  Timezone               object \n",
            " 19  Airport_Code           object \n",
            " 20  Weather_Timestamp      object \n",
            " 21  Temperature(F)         float64\n",
            " 22  Wind_Chill(F)          float64\n",
            " 23  Humidity(%)            float64\n",
            " 24  Pressure(in)           float64\n",
            " 25  Visibility(mi)         float64\n",
            " 26  Wind_Direction         object \n",
            " 27  Wind_Speed(mph)        float64\n",
            " 28  Precipitation(in)      float64\n",
            " 29  Weather_Condition      object \n",
            " 30  Amenity                bool   \n",
            " 31  Bump                   bool   \n",
            " 32  Crossing               bool   \n",
            " 33  Give_Way               bool   \n",
            " 34  Junction               bool   \n",
            " 35  No_Exit                bool   \n",
            " 36  Railway                bool   \n",
            " 37  Roundabout             bool   \n",
            " 38  Station                bool   \n",
            " 39  Stop                   bool   \n",
            " 40  Traffic_Calming        bool   \n",
            " 41  Traffic_Signal         bool   \n",
            " 42  Turning_Loop           bool   \n",
            " 43  Sunrise_Sunset         object \n",
            " 44  Civil_Twilight         object \n",
            " 45  Nautical_Twilight      object \n",
            " 46  Astronomical_Twilight  object \n",
            "dtypes: bool(13), float64(13), int64(1), object(20)\n",
            "memory usage: 773.4+ MB\n"
          ]
        }
      ]
    },
    {
      "cell_type": "code",
      "source": [
        "df.describe()"
      ],
      "metadata": {
        "colab": {
          "base_uri": "https://localhost:8080/",
          "height": 364
        },
        "id": "6i8Y15w99nzL",
        "outputId": "c524cca8-3da9-4743-8fc7-e44f2ed6a15b"
      },
      "execution_count": null,
      "outputs": [
        {
          "output_type": "execute_result",
          "data": {
            "text/plain": [
              "           Severity     Start_Lat     Start_Lng       End_Lat       End_Lng  \\\n",
              "count  2.845342e+06  2.845342e+06  2.845342e+06  2.845342e+06  2.845342e+06   \n",
              "mean   2.137572e+00  3.624520e+01 -9.711463e+01  3.624532e+01 -9.711439e+01   \n",
              "std    4.787216e-01  5.363797e+00  1.831782e+01  5.363873e+00  1.831763e+01   \n",
              "min    1.000000e+00  2.456603e+01 -1.245481e+02  2.456601e+01 -1.245457e+02   \n",
              "25%    2.000000e+00  3.344517e+01 -1.180331e+02  3.344628e+01 -1.180333e+02   \n",
              "50%    2.000000e+00  3.609861e+01 -9.241808e+01  3.609799e+01 -9.241772e+01   \n",
              "75%    2.000000e+00  4.016024e+01 -8.037243e+01  4.016105e+01 -8.037338e+01   \n",
              "max    4.000000e+00  4.900058e+01 -6.711317e+01  4.907500e+01 -6.710924e+01   \n",
              "\n",
              "       Distance(mi)        Number  Temperature(F)  Wind_Chill(F)  \\\n",
              "count  2.845342e+06  1.101431e+06    2.776068e+06   2.375699e+06   \n",
              "mean   7.026779e-01  8.089408e+03    6.179356e+01   5.965823e+01   \n",
              "std    1.560361e+00  1.836009e+04    1.862263e+01   2.116097e+01   \n",
              "min    0.000000e+00  0.000000e+00   -8.900000e+01  -8.900000e+01   \n",
              "25%    5.200000e-02  1.270000e+03    5.000000e+01   4.600000e+01   \n",
              "50%    2.440000e-01  4.007000e+03    6.400000e+01   6.300000e+01   \n",
              "75%    7.640000e-01  9.567000e+03    7.600000e+01   7.600000e+01   \n",
              "max    1.551860e+02  9.999997e+06    1.960000e+02   1.960000e+02   \n",
              "\n",
              "        Humidity(%)  Pressure(in)  Visibility(mi)  Wind_Speed(mph)  \\\n",
              "count  2.772250e+06  2.786142e+06    2.774796e+06     2.687398e+06   \n",
              "mean   6.436545e+01  2.947234e+01    9.099391e+00     7.395044e+00   \n",
              "std    2.287457e+01  1.045286e+00    2.717546e+00     5.527454e+00   \n",
              "min    1.000000e+00  0.000000e+00    0.000000e+00     0.000000e+00   \n",
              "25%    4.800000e+01  2.931000e+01    1.000000e+01     3.500000e+00   \n",
              "50%    6.700000e+01  2.982000e+01    1.000000e+01     7.000000e+00   \n",
              "75%    8.300000e+01  3.001000e+01    1.000000e+01     1.000000e+01   \n",
              "max    1.000000e+02  5.890000e+01    1.400000e+02     1.087000e+03   \n",
              "\n",
              "       Precipitation(in)  \n",
              "count       2.295884e+06  \n",
              "mean        7.016940e-03  \n",
              "std         9.348831e-02  \n",
              "min         0.000000e+00  \n",
              "25%         0.000000e+00  \n",
              "50%         0.000000e+00  \n",
              "75%         0.000000e+00  \n",
              "max         2.400000e+01  "
            ],
            "text/html": [
              "\n",
              "  <div id=\"df-ce779217-5a76-499e-ad98-adf29a43b013\">\n",
              "    <div class=\"colab-df-container\">\n",
              "      <div>\n",
              "<style scoped>\n",
              "    .dataframe tbody tr th:only-of-type {\n",
              "        vertical-align: middle;\n",
              "    }\n",
              "\n",
              "    .dataframe tbody tr th {\n",
              "        vertical-align: top;\n",
              "    }\n",
              "\n",
              "    .dataframe thead th {\n",
              "        text-align: right;\n",
              "    }\n",
              "</style>\n",
              "<table border=\"1\" class=\"dataframe\">\n",
              "  <thead>\n",
              "    <tr style=\"text-align: right;\">\n",
              "      <th></th>\n",
              "      <th>Severity</th>\n",
              "      <th>Start_Lat</th>\n",
              "      <th>Start_Lng</th>\n",
              "      <th>End_Lat</th>\n",
              "      <th>End_Lng</th>\n",
              "      <th>Distance(mi)</th>\n",
              "      <th>Number</th>\n",
              "      <th>Temperature(F)</th>\n",
              "      <th>Wind_Chill(F)</th>\n",
              "      <th>Humidity(%)</th>\n",
              "      <th>Pressure(in)</th>\n",
              "      <th>Visibility(mi)</th>\n",
              "      <th>Wind_Speed(mph)</th>\n",
              "      <th>Precipitation(in)</th>\n",
              "    </tr>\n",
              "  </thead>\n",
              "  <tbody>\n",
              "    <tr>\n",
              "      <th>count</th>\n",
              "      <td>2.845342e+06</td>\n",
              "      <td>2.845342e+06</td>\n",
              "      <td>2.845342e+06</td>\n",
              "      <td>2.845342e+06</td>\n",
              "      <td>2.845342e+06</td>\n",
              "      <td>2.845342e+06</td>\n",
              "      <td>1.101431e+06</td>\n",
              "      <td>2.776068e+06</td>\n",
              "      <td>2.375699e+06</td>\n",
              "      <td>2.772250e+06</td>\n",
              "      <td>2.786142e+06</td>\n",
              "      <td>2.774796e+06</td>\n",
              "      <td>2.687398e+06</td>\n",
              "      <td>2.295884e+06</td>\n",
              "    </tr>\n",
              "    <tr>\n",
              "      <th>mean</th>\n",
              "      <td>2.137572e+00</td>\n",
              "      <td>3.624520e+01</td>\n",
              "      <td>-9.711463e+01</td>\n",
              "      <td>3.624532e+01</td>\n",
              "      <td>-9.711439e+01</td>\n",
              "      <td>7.026779e-01</td>\n",
              "      <td>8.089408e+03</td>\n",
              "      <td>6.179356e+01</td>\n",
              "      <td>5.965823e+01</td>\n",
              "      <td>6.436545e+01</td>\n",
              "      <td>2.947234e+01</td>\n",
              "      <td>9.099391e+00</td>\n",
              "      <td>7.395044e+00</td>\n",
              "      <td>7.016940e-03</td>\n",
              "    </tr>\n",
              "    <tr>\n",
              "      <th>std</th>\n",
              "      <td>4.787216e-01</td>\n",
              "      <td>5.363797e+00</td>\n",
              "      <td>1.831782e+01</td>\n",
              "      <td>5.363873e+00</td>\n",
              "      <td>1.831763e+01</td>\n",
              "      <td>1.560361e+00</td>\n",
              "      <td>1.836009e+04</td>\n",
              "      <td>1.862263e+01</td>\n",
              "      <td>2.116097e+01</td>\n",
              "      <td>2.287457e+01</td>\n",
              "      <td>1.045286e+00</td>\n",
              "      <td>2.717546e+00</td>\n",
              "      <td>5.527454e+00</td>\n",
              "      <td>9.348831e-02</td>\n",
              "    </tr>\n",
              "    <tr>\n",
              "      <th>min</th>\n",
              "      <td>1.000000e+00</td>\n",
              "      <td>2.456603e+01</td>\n",
              "      <td>-1.245481e+02</td>\n",
              "      <td>2.456601e+01</td>\n",
              "      <td>-1.245457e+02</td>\n",
              "      <td>0.000000e+00</td>\n",
              "      <td>0.000000e+00</td>\n",
              "      <td>-8.900000e+01</td>\n",
              "      <td>-8.900000e+01</td>\n",
              "      <td>1.000000e+00</td>\n",
              "      <td>0.000000e+00</td>\n",
              "      <td>0.000000e+00</td>\n",
              "      <td>0.000000e+00</td>\n",
              "      <td>0.000000e+00</td>\n",
              "    </tr>\n",
              "    <tr>\n",
              "      <th>25%</th>\n",
              "      <td>2.000000e+00</td>\n",
              "      <td>3.344517e+01</td>\n",
              "      <td>-1.180331e+02</td>\n",
              "      <td>3.344628e+01</td>\n",
              "      <td>-1.180333e+02</td>\n",
              "      <td>5.200000e-02</td>\n",
              "      <td>1.270000e+03</td>\n",
              "      <td>5.000000e+01</td>\n",
              "      <td>4.600000e+01</td>\n",
              "      <td>4.800000e+01</td>\n",
              "      <td>2.931000e+01</td>\n",
              "      <td>1.000000e+01</td>\n",
              "      <td>3.500000e+00</td>\n",
              "      <td>0.000000e+00</td>\n",
              "    </tr>\n",
              "    <tr>\n",
              "      <th>50%</th>\n",
              "      <td>2.000000e+00</td>\n",
              "      <td>3.609861e+01</td>\n",
              "      <td>-9.241808e+01</td>\n",
              "      <td>3.609799e+01</td>\n",
              "      <td>-9.241772e+01</td>\n",
              "      <td>2.440000e-01</td>\n",
              "      <td>4.007000e+03</td>\n",
              "      <td>6.400000e+01</td>\n",
              "      <td>6.300000e+01</td>\n",
              "      <td>6.700000e+01</td>\n",
              "      <td>2.982000e+01</td>\n",
              "      <td>1.000000e+01</td>\n",
              "      <td>7.000000e+00</td>\n",
              "      <td>0.000000e+00</td>\n",
              "    </tr>\n",
              "    <tr>\n",
              "      <th>75%</th>\n",
              "      <td>2.000000e+00</td>\n",
              "      <td>4.016024e+01</td>\n",
              "      <td>-8.037243e+01</td>\n",
              "      <td>4.016105e+01</td>\n",
              "      <td>-8.037338e+01</td>\n",
              "      <td>7.640000e-01</td>\n",
              "      <td>9.567000e+03</td>\n",
              "      <td>7.600000e+01</td>\n",
              "      <td>7.600000e+01</td>\n",
              "      <td>8.300000e+01</td>\n",
              "      <td>3.001000e+01</td>\n",
              "      <td>1.000000e+01</td>\n",
              "      <td>1.000000e+01</td>\n",
              "      <td>0.000000e+00</td>\n",
              "    </tr>\n",
              "    <tr>\n",
              "      <th>max</th>\n",
              "      <td>4.000000e+00</td>\n",
              "      <td>4.900058e+01</td>\n",
              "      <td>-6.711317e+01</td>\n",
              "      <td>4.907500e+01</td>\n",
              "      <td>-6.710924e+01</td>\n",
              "      <td>1.551860e+02</td>\n",
              "      <td>9.999997e+06</td>\n",
              "      <td>1.960000e+02</td>\n",
              "      <td>1.960000e+02</td>\n",
              "      <td>1.000000e+02</td>\n",
              "      <td>5.890000e+01</td>\n",
              "      <td>1.400000e+02</td>\n",
              "      <td>1.087000e+03</td>\n",
              "      <td>2.400000e+01</td>\n",
              "    </tr>\n",
              "  </tbody>\n",
              "</table>\n",
              "</div>\n",
              "      <button class=\"colab-df-convert\" onclick=\"convertToInteractive('df-ce779217-5a76-499e-ad98-adf29a43b013')\"\n",
              "              title=\"Convert this dataframe to an interactive table.\"\n",
              "              style=\"display:none;\">\n",
              "        \n",
              "  <svg xmlns=\"http://www.w3.org/2000/svg\" height=\"24px\"viewBox=\"0 0 24 24\"\n",
              "       width=\"24px\">\n",
              "    <path d=\"M0 0h24v24H0V0z\" fill=\"none\"/>\n",
              "    <path d=\"M18.56 5.44l.94 2.06.94-2.06 2.06-.94-2.06-.94-.94-2.06-.94 2.06-2.06.94zm-11 1L8.5 8.5l.94-2.06 2.06-.94-2.06-.94L8.5 2.5l-.94 2.06-2.06.94zm10 10l.94 2.06.94-2.06 2.06-.94-2.06-.94-.94-2.06-.94 2.06-2.06.94z\"/><path d=\"M17.41 7.96l-1.37-1.37c-.4-.4-.92-.59-1.43-.59-.52 0-1.04.2-1.43.59L10.3 9.45l-7.72 7.72c-.78.78-.78 2.05 0 2.83L4 21.41c.39.39.9.59 1.41.59.51 0 1.02-.2 1.41-.59l7.78-7.78 2.81-2.81c.8-.78.8-2.07 0-2.86zM5.41 20L4 18.59l7.72-7.72 1.47 1.35L5.41 20z\"/>\n",
              "  </svg>\n",
              "      </button>\n",
              "      \n",
              "  <style>\n",
              "    .colab-df-container {\n",
              "      display:flex;\n",
              "      flex-wrap:wrap;\n",
              "      gap: 12px;\n",
              "    }\n",
              "\n",
              "    .colab-df-convert {\n",
              "      background-color: #E8F0FE;\n",
              "      border: none;\n",
              "      border-radius: 50%;\n",
              "      cursor: pointer;\n",
              "      display: none;\n",
              "      fill: #1967D2;\n",
              "      height: 32px;\n",
              "      padding: 0 0 0 0;\n",
              "      width: 32px;\n",
              "    }\n",
              "\n",
              "    .colab-df-convert:hover {\n",
              "      background-color: #E2EBFA;\n",
              "      box-shadow: 0px 1px 2px rgba(60, 64, 67, 0.3), 0px 1px 3px 1px rgba(60, 64, 67, 0.15);\n",
              "      fill: #174EA6;\n",
              "    }\n",
              "\n",
              "    [theme=dark] .colab-df-convert {\n",
              "      background-color: #3B4455;\n",
              "      fill: #D2E3FC;\n",
              "    }\n",
              "\n",
              "    [theme=dark] .colab-df-convert:hover {\n",
              "      background-color: #434B5C;\n",
              "      box-shadow: 0px 1px 3px 1px rgba(0, 0, 0, 0.15);\n",
              "      filter: drop-shadow(0px 1px 2px rgba(0, 0, 0, 0.3));\n",
              "      fill: #FFFFFF;\n",
              "    }\n",
              "  </style>\n",
              "\n",
              "      <script>\n",
              "        const buttonEl =\n",
              "          document.querySelector('#df-ce779217-5a76-499e-ad98-adf29a43b013 button.colab-df-convert');\n",
              "        buttonEl.style.display =\n",
              "          google.colab.kernel.accessAllowed ? 'block' : 'none';\n",
              "\n",
              "        async function convertToInteractive(key) {\n",
              "          const element = document.querySelector('#df-ce779217-5a76-499e-ad98-adf29a43b013');\n",
              "          const dataTable =\n",
              "            await google.colab.kernel.invokeFunction('convertToInteractive',\n",
              "                                                     [key], {});\n",
              "          if (!dataTable) return;\n",
              "\n",
              "          const docLinkHtml = 'Like what you see? Visit the ' +\n",
              "            '<a target=\"_blank\" href=https://colab.research.google.com/notebooks/data_table.ipynb>data table notebook</a>'\n",
              "            + ' to learn more about interactive tables.';\n",
              "          element.innerHTML = '';\n",
              "          dataTable['output_type'] = 'display_data';\n",
              "          await google.colab.output.renderOutput(dataTable, element);\n",
              "          const docLink = document.createElement('div');\n",
              "          docLink.innerHTML = docLinkHtml;\n",
              "          element.appendChild(docLink);\n",
              "        }\n",
              "      </script>\n",
              "    </div>\n",
              "  </div>\n",
              "  "
            ]
          },
          "metadata": {},
          "execution_count": 19
        }
      ]
    },
    {
      "cell_type": "code",
      "source": [
        "#Getting the number of numeric columns in our data\n",
        "numerics=['int16','int32','int64','float16','float32','float64']\n",
        "numeric_df = df.select_dtypes(include=numerics)\n",
        "len(numeric_df.columns)"
      ],
      "metadata": {
        "id": "OmYMt4Mm9oGA",
        "colab": {
          "base_uri": "https://localhost:8080/"
        },
        "outputId": "bb6f9ba9-7e79-4131-e333-2d07cb95912e"
      },
      "execution_count": null,
      "outputs": [
        {
          "output_type": "execute_result",
          "data": {
            "text/plain": [
              "14"
            ]
          },
          "metadata": {},
          "execution_count": 20
        }
      ]
    },
    {
      "cell_type": "code",
      "source": [
        "#Getting the percentage of sum of the null value in each column\n",
        "missing_percentages=df.isna().sum().sort_values(ascending=False)/len(df)\n",
        "\n",
        "#Keep only the values that have null values\n",
        "missing_percentages[missing_percentages !=0]"
      ],
      "metadata": {
        "colab": {
          "base_uri": "https://localhost:8080/"
        },
        "id": "8-zUJNVKrUse",
        "outputId": "c537c5e3-b766-4dbe-ffc1-18ae59904c8a"
      },
      "execution_count": null,
      "outputs": [
        {
          "output_type": "execute_result",
          "data": {
            "text/plain": [
              "Number                   6.129003e-01\n",
              "Precipitation(in)        1.931079e-01\n",
              "Wind_Chill(F)            1.650568e-01\n",
              "Wind_Speed(mph)          5.550967e-02\n",
              "Wind_Direction           2.592834e-02\n",
              "Humidity(%)              2.568830e-02\n",
              "Weather_Condition        2.482514e-02\n",
              "Visibility(mi)           2.479350e-02\n",
              "Temperature(F)           2.434646e-02\n",
              "Pressure(in)             2.080593e-02\n",
              "Weather_Timestamp        1.783125e-02\n",
              "Airport_Code             3.356011e-03\n",
              "Timezone                 1.285961e-03\n",
              "Nautical_Twilight        1.007612e-03\n",
              "Civil_Twilight           1.007612e-03\n",
              "Sunrise_Sunset           1.007612e-03\n",
              "Astronomical_Twilight    1.007612e-03\n",
              "Zipcode                  4.635647e-04\n",
              "City                     4.814887e-05\n",
              "Street                   7.029032e-07\n",
              "dtype: float64"
            ]
          },
          "metadata": {},
          "execution_count": 21
        }
      ]
    },
    {
      "cell_type": "code",
      "source": [
        "#Plot The percentage of missing values to each column\n",
        "missing_percentages[missing_percentages !=0].plot(kind='barh')"
      ],
      "metadata": {
        "colab": {
          "base_uri": "https://localhost:8080/",
          "height": 283
        },
        "id": "bZ0ciqM8rV46",
        "outputId": "b8690449-c4a4-46ba-9b8c-38a1e7a48f27"
      },
      "execution_count": null,
      "outputs": [
        {
          "output_type": "execute_result",
          "data": {
            "text/plain": [
              "<matplotlib.axes._subplots.AxesSubplot at 0x7f74d1b872d0>"
            ]
          },
          "metadata": {},
          "execution_count": 22
        },
        {
          "output_type": "display_data",
          "data": {
            "text/plain": [
              "<Figure size 432x288 with 1 Axes>"
            ],
            "image/png": "[encoded data removed]"
          },
          "metadata": {
            "needs_background": "light"
          }
        }
      ]
    },
    {
      "cell_type": "markdown",
      "source": [
        "I think to need for column number cause it is have alot of missing values."
      ],
      "metadata": {
        "id": "nD8EJSo3rSf8"
      }
    },
    {
      "cell_type": "markdown",
      "source": [
        "## Exploratory Analysis and Visulization\n",
        "\n",
        "Columns we'll analyze:\n",
        "\n",
        "1.City\n",
        "\n",
        "2.Start Time\n",
        "\n",
        "3.Start lat, Start lang\n",
        "\n",
        "4.Temperature\n",
        "\n",
        "5.Weather Condition"
      ],
      "metadata": {
        "id": "OMxF50Tx297p"
      }
    },
    {
      "cell_type": "code",
      "source": [
        "df.City"
      ],
      "metadata": {
        "colab": {
          "base_uri": "https://localhost:8080/"
        },
        "id": "XQ3cpbI7vHtb",
        "outputId": "16e20b16-5e44-4096-95e9-dea54224d557"
      },
      "execution_count": null,
      "outputs": [
        {
          "output_type": "execute_result",
          "data": {
            "text/plain": [
              "0               Dublin\n",
              "1               Dayton\n",
              "2           Cincinnati\n",
              "3                Akron\n",
              "4           Cincinnati\n",
              "              ...     \n",
              "2845337      Riverside\n",
              "2845338      San Diego\n",
              "2845339         Orange\n",
              "2845340    Culver City\n",
              "2845341       Highland\n",
              "Name: City, Length: 2845342, dtype: object"
            ]
          },
          "metadata": {},
          "execution_count": 23
        }
      ]
    },
    {
      "cell_type": "code",
      "source": [
        "#Number of unique cities in usa\n",
        "cities=df.City.unique()\n",
        "len(cities)"
      ],
      "metadata": {
        "colab": {
          "base_uri": "https://localhost:8080/"
        },
        "id": "RcimeRLAtnag",
        "outputId": "8aefb7d1-e6b3-4117-e43b-f66e869479d4"
      },
      "execution_count": null,
      "outputs": [
        {
          "output_type": "execute_result",
          "data": {
            "text/plain": [
              "11682"
            ]
          },
          "metadata": {},
          "execution_count": 24
        }
      ]
    },
    {
      "cell_type": "code",
      "source": [
        "#Count of accident in each city\n",
        "cities_by_acciendt=df.City.value_counts()\n",
        "cities_by_acciendt"
      ],
      "metadata": {
        "colab": {
          "base_uri": "https://localhost:8080/"
        },
        "id": "xqXsFqHJtnt-",
        "outputId": "df04e7f2-0020-490b-f6d2-609f91a8d9d5"
      },
      "execution_count": null,
      "outputs": [
        {
          "output_type": "execute_result",
          "data": {
            "text/plain": [
              "Miami                           106966\n",
              "Los Angeles                      68956\n",
              "Orlando                          54691\n",
              "Dallas                           41979\n",
              "Houston                          39448\n",
              "                                 ...  \n",
              "Ridgedale                            1\n",
              "Sekiu                                1\n",
              "Wooldridge                           1\n",
              "Bullock                              1\n",
              "American Fork-Pleasant Grove         1\n",
              "Name: City, Length: 11681, dtype: int64"
            ]
          },
          "metadata": {},
          "execution_count": 25
        }
      ]
    },
    {
      "cell_type": "code",
      "source": [
        "#Top 20 city that have accidents\n",
        "cities_by_acciendt[:20]"
      ],
      "metadata": {
        "colab": {
          "base_uri": "https://localhost:8080/"
        },
        "id": "AtFZUNWkur0H",
        "outputId": "af997067-d469-4b75-f44b-bf4064976464"
      },
      "execution_count": null,
      "outputs": [
        {
          "output_type": "execute_result",
          "data": {
            "text/plain": [
              "Miami           106966\n",
              "Los Angeles      68956\n",
              "Orlando          54691\n",
              "Dallas           41979\n",
              "Houston          39448\n",
              "Charlotte        33152\n",
              "Sacramento       32559\n",
              "San Diego        26627\n",
              "Raleigh          22840\n",
              "Minneapolis      22768\n",
              "Portland         20944\n",
              "Nashville        20267\n",
              "Austin           18301\n",
              "Baton Rouge      18182\n",
              "Phoenix          17143\n",
              "Saint Paul       16869\n",
              "New Orleans      16251\n",
              "Atlanta          15622\n",
              "Jacksonville     14967\n",
              "Richmond         14349\n",
              "Name: City, dtype: int64"
            ]
          },
          "metadata": {},
          "execution_count": 26
        }
      ]
    },
    {
      "cell_type": "code",
      "source": [
        "#Plotting top 20 cities that have accidents\n",
        "cities_by_acciendt[:20].plot(kind='barh')"
      ],
      "metadata": {
        "colab": {
          "base_uri": "https://localhost:8080/",
          "height": 283
        },
        "id": "oJ_Nub1LusWO",
        "outputId": "4e6bda4a-9fef-4c85-8bd6-a887c3f6e270"
      },
      "execution_count": null,
      "outputs": [
        {
          "output_type": "execute_result",
          "data": {
            "text/plain": [
              "<matplotlib.axes._subplots.AxesSubplot at 0x7fe0cfd65350>"
            ]
          },
          "metadata": {},
          "execution_count": 25
        },
        {
          "output_type": "display_data",
          "data": {
            "text/plain": [
              "<Figure size 432x288 with 1 Axes>"
            ],
            "image/png": "[encoded data removed]"
          },
          "metadata": {
            "needs_background": "light"
          }
        }
      ]
    },
    {
      "cell_type": "markdown",
      "source": [
        "It seems that miami have the largest amount of accidents"
      ],
      "metadata": {
        "id": "KMv0DULtg9ah"
      }
    },
    {
      "cell_type": "code",
      "source": [
        "#plotting the Count of cities that have the same number of accident\n",
        "sns.set_style(\"darkgrid\")\n",
        "sns.histplot(cities_by_acciendt, log_scale=True)"
      ],
      "metadata": {
        "colab": {
          "base_uri": "https://localhost:8080/",
          "height": 301
        },
        "id": "5CP3Y9Uuuswa",
        "outputId": "ecb949cd-8fd0-4903-a8e3-68aedca95132"
      },
      "execution_count": null,
      "outputs": [
        {
          "output_type": "execute_result",
          "data": {
            "text/plain": [
              "<matplotlib.axes._subplots.AxesSubplot at 0x7f74bd09ba50>"
            ]
          },
          "metadata": {},
          "execution_count": 28
        },
        {
          "output_type": "display_data",
          "data": {
            "text/plain": [
              "<Figure size 432x288 with 1 Axes>"
            ],
            "image/png": "[encoded data removed]"
          },
          "metadata": {}
        }
      ]
    },
    {
      "cell_type": "markdown",
      "source": [
        "The number of cities which has 1 accident is the largest one,\n",
        "but maybe that is not accurate, Maybe it is just missing data to those cities"
      ],
      "metadata": {
        "id": "rtkoSyssiHeR"
      }
    },
    {
      "cell_type": "code",
      "source": [
        "cities_by_acciendt[cities_by_acciendt==1]"
      ],
      "metadata": {
        "colab": {
          "base_uri": "https://localhost:8080/"
        },
        "id": "rSMoJX9RutOe",
        "outputId": "b63af3c1-2d8a-43e0-bd3f-0b45755a638e"
      },
      "execution_count": null,
      "outputs": [
        {
          "output_type": "execute_result",
          "data": {
            "text/plain": [
              "Carney                          1\n",
              "Waverly Hall                    1\n",
              "Center Sandwich                 1\n",
              "Glen Flora                      1\n",
              "Sulphur Springs                 1\n",
              "                               ..\n",
              "Ridgedale                       1\n",
              "Sekiu                           1\n",
              "Wooldridge                      1\n",
              "Bullock                         1\n",
              "American Fork-Pleasant Grove    1\n",
              "Name: City, Length: 1110, dtype: int64"
            ]
          },
          "metadata": {},
          "execution_count": 29
        }
      ]
    },
    {
      "cell_type": "code",
      "source": [
        "#Convert start time to datetime format\n",
        "df.Start_Time = pd.to_datetime(df.Start_Time)\n",
        "df.Start_Time"
      ],
      "metadata": {
        "colab": {
          "base_uri": "https://localhost:8080/"
        },
        "id": "FJd2KpZ0ut4p",
        "outputId": "af68b708-8198-4e4d-fe5d-fb02c26fff19"
      },
      "execution_count": null,
      "outputs": [
        {
          "output_type": "execute_result",
          "data": {
            "text/plain": [
              "0         2016-02-08 00:37:08\n",
              "1         2016-02-08 05:56:20\n",
              "2         2016-02-08 06:15:39\n",
              "3         2016-02-08 06:51:45\n",
              "4         2016-02-08 07:53:43\n",
              "                  ...        \n",
              "2845337   2019-08-23 18:03:25\n",
              "2845338   2019-08-23 19:11:30\n",
              "2845339   2019-08-23 19:00:21\n",
              "2845340   2019-08-23 19:00:21\n",
              "2845341   2019-08-23 18:52:06\n",
              "Name: Start_Time, Length: 2845342, dtype: datetime64[ns]"
            ]
          },
          "metadata": {},
          "execution_count": 30
        }
      ]
    },
    {
      "cell_type": "code",
      "source": [
        "#Plotting accident within the hours in the day\n",
        "sns.distplot(df.Start_Time.dt.hour, bins=24, kde=False, norm_hist=True)"
      ],
      "metadata": {
        "colab": {
          "base_uri": "https://localhost:8080/",
          "height": 354
        },
        "id": "THBn8JhojX68",
        "outputId": "66b3460e-57c4-463b-f613-d57596784891"
      },
      "execution_count": null,
      "outputs": [
        {
          "output_type": "stream",
          "name": "stderr",
          "text": [
            "/usr/local/lib/python3.7/dist-packages/seaborn/distributions.py:2619: FutureWarning: `distplot` is a deprecated function and will be removed in a future version. Please adapt your code to use either `displot` (a figure-level function with similar flexibility) or `histplot` (an axes-level function for histograms).\n",
            "  warnings.warn(msg, FutureWarning)\n"
          ]
        },
        {
          "output_type": "execute_result",
          "data": {
            "text/plain": [
              "<matplotlib.axes._subplots.AxesSubplot at 0x7f74b36a3d90>"
            ]
          },
          "metadata": {},
          "execution_count": 37
        },
        {
          "output_type": "display_data",
          "data": {
            "text/plain": [
              "<Figure size 432x288 with 1 Axes>"
            ],
            "image/png": "[encoded data removed]"
          },
          "metadata": {}
        }
      ]
    },
    {
      "cell_type": "markdown",
      "source": [
        "- Accident start to increase from 12 PM to 5 PM\n",
        "\n",
        "- It seems alittle bit wired \n",
        "\n",
        "- In this time people strat to go home from there work and they do not need to be in hurry\n",
        "\n",
        "- It is not the morning while peole go thier work and not in the night when peole be tired (maybe something in the data)"
      ],
      "metadata": {
        "id": "PSysU4nikLJR"
      }
    },
    {
      "cell_type": "code",
      "source": [
        "#Plotting accident within days of week\n",
        "sns.distplot(df.Start_Time.dt.dayofweek, bins=7, kde=False, norm_hist=True)"
      ],
      "metadata": {
        "colab": {
          "base_uri": "https://localhost:8080/",
          "height": 354
        },
        "id": "QWHppmuQjYR1",
        "outputId": "42e09377-e3d2-4c19-8410-ebdb38882566"
      },
      "execution_count": null,
      "outputs": [
        {
          "output_type": "stream",
          "name": "stderr",
          "text": [
            "/usr/local/lib/python3.7/dist-packages/seaborn/distributions.py:2619: FutureWarning: `distplot` is a deprecated function and will be removed in a future version. Please adapt your code to use either `displot` (a figure-level function with similar flexibility) or `histplot` (an axes-level function for histograms).\n",
            "  warnings.warn(msg, FutureWarning)\n"
          ]
        },
        {
          "output_type": "execute_result",
          "data": {
            "text/plain": [
              "<matplotlib.axes._subplots.AxesSubplot at 0x7f74b347bd10>"
            ]
          },
          "metadata": {},
          "execution_count": 40
        },
        {
          "output_type": "display_data",
          "data": {
            "text/plain": [
              "<Figure size 432x288 with 1 Axes>"
            ],
            "image/png": "[encoded data removed]"
          },
          "metadata": {}
        }
      ]
    },
    {
      "cell_type": "markdown",
      "source": [
        "- That is an accurate visualization, Because it is normal that most of the accidents happens during the weekdays and it is decrease in the weekend"
      ],
      "metadata": {
        "id": "6TuEvCn-mNUO"
      }
    },
    {
      "cell_type": "code",
      "source": [
        "#Plotting accident within sundays\n",
        "sundays_start_time = df.Start_Time[df.Start_Time.dt.dayofweek==6]\n",
        "sns.distplot(sundays_start_time.dt.hour,bins=24,kde=False,norm_hist=True)"
      ],
      "metadata": {
        "colab": {
          "base_uri": "https://localhost:8080/",
          "height": 354
        },
        "id": "scIncuQdjYis",
        "outputId": "225bdfa7-42ff-4df1-a9f3-c0353f8bb900"
      },
      "execution_count": null,
      "outputs": [
        {
          "output_type": "stream",
          "name": "stderr",
          "text": [
            "/usr/local/lib/python3.7/dist-packages/seaborn/distributions.py:2619: FutureWarning: `distplot` is a deprecated function and will be removed in a future version. Please adapt your code to use either `displot` (a figure-level function with similar flexibility) or `histplot` (an axes-level function for histograms).\n",
            "  warnings.warn(msg, FutureWarning)\n"
          ]
        },
        {
          "output_type": "execute_result",
          "data": {
            "text/plain": [
              "<matplotlib.axes._subplots.AxesSubplot at 0x7f74b3429810>"
            ]
          },
          "metadata": {},
          "execution_count": 43
        },
        {
          "output_type": "display_data",
          "data": {
            "text/plain": [
              "<Figure size 432x288 with 1 Axes>"
            ],
            "image/png": "[encoded data removed]"
          },
          "metadata": {}
        }
      ]
    },
    {
      "cell_type": "code",
      "source": [
        "#Plotting accident within the mondays\n",
        "mondays_strat_time=df.Start_Time[df.Start_Time.dt.dayofweek==0]\n",
        "sns.distplot(mondays_strat_time.dt.hour, bins=24, kde=False, norm_hist=True)"
      ],
      "metadata": {
        "colab": {
          "base_uri": "https://localhost:8080/",
          "height": 354
        },
        "id": "EaJRPr9uoXfc",
        "outputId": "695766e6-c37d-4bf3-f684-0a3cd228c2d8"
      },
      "execution_count": null,
      "outputs": [
        {
          "output_type": "stream",
          "name": "stderr",
          "text": [
            "/usr/local/lib/python3.7/dist-packages/seaborn/distributions.py:2619: FutureWarning: `distplot` is a deprecated function and will be removed in a future version. Please adapt your code to use either `displot` (a figure-level function with similar flexibility) or `histplot` (an axes-level function for histograms).\n",
            "  warnings.warn(msg, FutureWarning)\n"
          ]
        },
        {
          "output_type": "execute_result",
          "data": {
            "text/plain": [
              "<matplotlib.axes._subplots.AxesSubplot at 0x7f74b335add0>"
            ]
          },
          "metadata": {},
          "execution_count": 45
        },
        {
          "output_type": "display_data",
          "data": {
            "text/plain": [
              "<Figure size 432x288 with 1 Axes>"
            ],
            "image/png": "[encoded data removed]"
          },
          "metadata": {}
        }
      ]
    },
    {
      "cell_type": "markdown",
      "source": [
        "- In Sundays the accidents is high in all over the day especially between 10 AM to 5 PM\n",
        "\n",
        "- In Mondays only increase from 12 Pm to 5 PM"
      ],
      "metadata": {
        "id": "dAUWWOOSo7y4"
      }
    },
    {
      "cell_type": "code",
      "source": [
        "#Plotting accident within the Months\n",
        "sns.distplot(df.Start_Time.dt.month, bins=12, kde=False, norm_hist=True)"
      ],
      "metadata": {
        "colab": {
          "base_uri": "https://localhost:8080/",
          "height": 354
        },
        "id": "ImNXDw88mr2t",
        "outputId": "1c897f3f-4362-467e-b487-eebe1deb70e9"
      },
      "execution_count": null,
      "outputs": [
        {
          "output_type": "stream",
          "name": "stderr",
          "text": [
            "/usr/local/lib/python3.7/dist-packages/seaborn/distributions.py:2619: FutureWarning: `distplot` is a deprecated function and will be removed in a future version. Please adapt your code to use either `displot` (a figure-level function with similar flexibility) or `histplot` (an axes-level function for histograms).\n",
            "  warnings.warn(msg, FutureWarning)\n"
          ]
        },
        {
          "output_type": "execute_result",
          "data": {
            "text/plain": [
              "<matplotlib.axes._subplots.AxesSubplot at 0x7f74b3306ed0>"
            ]
          },
          "metadata": {},
          "execution_count": 46
        },
        {
          "output_type": "display_data",
          "data": {
            "text/plain": [
              "<Figure size 432x288 with 1 Axes>"
            ],
            "image/png": "[encoded data removed]"
          },
          "metadata": {}
        }
      ]
    },
    {
      "cell_type": "markdown",
      "source": [
        "- Accidents start to increase from septemper to december\n",
        "- Accidents is more in winter than summer"
      ],
      "metadata": {
        "id": "4VflcjhIqMEA"
      }
    },
    {
      "cell_type": "code",
      "source": [
        "#Plotting accident within year \n",
        "sns.distplot(df.Start_Time.dt.year, bins=12, kde=False, norm_hist=True)"
      ],
      "metadata": {
        "colab": {
          "base_uri": "https://localhost:8080/",
          "height": 354
        },
        "id": "LFMD0s1EmsPJ",
        "outputId": "c8e1ae64-6436-4cd6-edc5-1b23fae69d7d"
      },
      "execution_count": null,
      "outputs": [
        {
          "output_type": "stream",
          "name": "stderr",
          "text": [
            "/usr/local/lib/python3.7/dist-packages/seaborn/distributions.py:2619: FutureWarning: `distplot` is a deprecated function and will be removed in a future version. Please adapt your code to use either `displot` (a figure-level function with similar flexibility) or `histplot` (an axes-level function for histograms).\n",
            "  warnings.warn(msg, FutureWarning)\n"
          ]
        },
        {
          "output_type": "execute_result",
          "data": {
            "text/plain": [
              "<matplotlib.axes._subplots.AxesSubplot at 0x7f74b3300390>"
            ]
          },
          "metadata": {},
          "execution_count": 51
        },
        {
          "output_type": "display_data",
          "data": {
            "text/plain": [
              "<Figure size 432x288 with 1 Axes>"
            ],
            "image/png": "[encoded data removed]"
          },
          "metadata": {}
        }
      ]
    },
    {
      "cell_type": "markdown",
      "source": [
        "- The accidents increased through the past few years, But can't consider this as an accurate analysis, Because maybe there is no enough data for the other years"
      ],
      "metadata": {
        "id": "slD7FxUUsN79"
      }
    },
    {
      "cell_type": "markdown",
      "source": [
        "Start Latitude & Longitude"
      ],
      "metadata": {
        "id": "eIG_LOX6tuSA"
      }
    },
    {
      "cell_type": "code",
      "source": [
        "#Create a sample from our data to make the plotting more fast\n",
        "sample_df=df.sample(int(0.01 * len(df)))"
      ],
      "metadata": {
        "id": "frqj2EBvmuDN"
      },
      "execution_count": null,
      "outputs": []
    },
    {
      "cell_type": "code",
      "source": [
        "#Plotting the location of each accidents\n",
        "sns.scatterplot(x=sample_df.Start_Lng, y=sample_df.Start_Lat,size=0.1)"
      ],
      "metadata": {
        "colab": {
          "base_uri": "https://localhost:8080/",
          "height": 301
        },
        "id": "fzRxeZ6PtjkE",
        "outputId": "ae12f334-37ba-45f7-e9ec-5909a2a5c4c4"
      },
      "execution_count": null,
      "outputs": [
        {
          "output_type": "execute_result",
          "data": {
            "text/plain": [
              "<matplotlib.axes._subplots.AxesSubplot at 0x7f74b311cb10>"
            ]
          },
          "metadata": {},
          "execution_count": 57
        },
        {
          "output_type": "display_data",
          "data": {
            "text/plain": [
              "<Figure size 432x288 with 1 Axes>"
            ],
            "image/png": "[encoded data removed]"
          },
          "metadata": {}
        }
      ]
    },
    {
      "cell_type": "code",
      "source": [
        "#Create a pairs list consist of lat and len of every accidents\n",
        "sample_df = df.sample(int(0.001 * len(df)))\n",
        "lat_lon_pairs = list(zip(list(sample_df.Start_Lat), list(sample_df.Start_Lng)))"
      ],
      "metadata": {
        "id": "7eR-ZQhItkZ_"
      },
      "execution_count": null,
      "outputs": []
    },
    {
      "cell_type": "code",
      "source": [
        "#Plot in heat map\n",
        "map = folium.Map()\n",
        "HeatMap(lat_lon_pairs).add_to(map)\n",
        "map"
      ],
      "metadata": {
        "colab": {
          "base_uri": "https://localhost:8080/",
          "height": 760
        },
        "id": "svPNjcQztk8h",
        "outputId": "8c3214e6-6be8-4386-8e4a-3128d3dd20fc"
      },
      "execution_count": null,
      "outputs": [
        {
          "output_type": "execute_result",
          "data": {
            "text/plain": [
              "<folium.folium.Map at 0x7f74b10c7b10>"
            ],
            "text/html": [
              "<div style=\"width:100%;\"><div style=\"position:relative;width:100%;height:0;padding-bottom:60%;\"><span style=\"color:#565656\">Make this Notebook Trusted to load map: File -> Trust Notebook</span><iframe srcdoc=\"&lt;!DOCTYPE html&gt;\n",
              "&lt;head&gt;    \n",
              "    &lt;meta http-equiv=&quot;content-type&quot; content=&quot;text/html; charset=UTF-8&quot; /&gt;\n",
              "    \n",
              "        &lt;script&gt;\n",
              "            L_NO_TOUCH = false;\n",
              "            L_DISABLE_3D = false;\n",
              "        &lt;/script&gt;\n",
              "    \n",
              "    &lt;style&gt;html, body {width: 100%;height: 100%;margin: 0;padding: 0;}&lt;/style&gt;\n",
              "    &lt;style&gt;#map {position:absolute;top:0;bottom:0;right:0;left:0;}&lt;/style&gt;\n",
              "    &lt;script src=&quot;https://cdn.jsdelivr.net/npm/leaflet@1.6.0/dist/leaflet.js&quot;&gt;&lt;/script&gt;\n",
              "    &lt;script src=&quot;https://code.jquery.com/jquery-1.12.4.min.js&quot;&gt;&lt;/script&gt;\n",
              "    &lt;script src=&quot;https://maxcdn.bootstrapcdn.com/bootstrap/3.2.0/js/bootstrap.min.js&quot;&gt;&lt;/script&gt;\n",
              "    &lt;script src=&quot;https://cdnjs.cloudflare.com/ajax/libs/Leaflet.awesome-markers/2.0.2/leaflet.awesome-markers.js&quot;&gt;&lt;/script&gt;\n",
              "    &lt;link rel=&quot;stylesheet&quot; href=&quot;https://cdn.jsdelivr.net/npm/leaflet@1.6.0/dist/leaflet.css&quot;/&gt;\n",
              "    &lt;link rel=&quot;stylesheet&quot; href=&quot;https://maxcdn.bootstrapcdn.com/bootstrap/3.2.0/css/bootstrap.min.css&quot;/&gt;\n",
              "    &lt;link rel=&quot;stylesheet&quot; href=&quot;https://maxcdn.bootstrapcdn.com/bootstrap/3.2.0/css/bootstrap-theme.min.css&quot;/&gt;\n",
              "    &lt;link rel=&quot;stylesheet&quot; href=&quot;https://maxcdn.bootstrapcdn.com/font-awesome/4.6.3/css/font-awesome.min.css&quot;/&gt;\n",
              "    &lt;link rel=&quot;stylesheet&quot; href=&quot;https://cdnjs.cloudflare.com/ajax/libs/Leaflet.awesome-markers/2.0.2/leaflet.awesome-markers.css&quot;/&gt;\n",
              "    &lt;link rel=&quot;stylesheet&quot; href=&quot;https://cdn.jsdelivr.net/gh/python-visualization/folium/folium/templates/leaflet.awesome.rotate.min.css&quot;/&gt;\n",
              "    \n",
              "            &lt;meta name=&quot;viewport&quot; content=&quot;width=device-width,\n",
              "                initial-scale=1.0, maximum-scale=1.0, user-scalable=no&quot; /&gt;\n",
              "            &lt;style&gt;\n",
              "                #map_492b9a98146ec8186f06e5afb0ea99ed {\n",
              "                    position: relative;\n",
              "                    width: 100.0%;\n",
              "                    height: 100.0%;\n",
              "                    left: 0.0%;\n",
              "                    top: 0.0%;\n",
              "                }\n",
              "            &lt;/style&gt;\n",
              "        \n",
              "    &lt;script src=&quot;https://cdn.jsdelivr.net/gh/python-visualization/folium@master/folium/templates/leaflet_heat.min.js&quot;&gt;&lt;/script&gt;\n",
              "&lt;/head&gt;\n",
              "&lt;body&gt;    \n",
              "    \n",
              "            &lt;div class=&quot;folium-map&quot; id=&quot;map_492b9a98146ec8186f06e5afb0ea99ed&quot; &gt;&lt;/div&gt;\n",
              "        \n",
              "&lt;/body&gt;\n",
              "&lt;script&gt;    \n",
              "    \n",
              "            var map_492b9a98146ec8186f06e5afb0ea99ed = L.map(\n",
              "                &quot;map_492b9a98146ec8186f06e5afb0ea99ed&quot;,\n",
              "                {\n",
              "                    center: [0, 0],\n",
              "                    crs: L.CRS.EPSG3857,\n",
              "                    zoom: 1,\n",
              "                    zoomControl: true,\n",
              "                    preferCanvas: false,\n",
              "                }\n",
              "            );\n",
              "\n",
              "            \n",
              "\n",
              "        \n",
              "    \n",
              "            var tile_layer_00f9dfe48eae5397b8dcd7bdc57732b1 = L.tileLayer(\n",
              "                &quot;https://{s}.tile.openstreetmap.org/{z}/{x}/{y}.png&quot;,\n",
              "                {&quot;attribution&quot;: &quot;Data by \\u0026copy; \\u003ca href=\\&quot;http://openstreetmap.org\\&quot;\\u003eOpenStreetMap\\u003c/a\\u003e, under \\u003ca href=\\&quot;http://www.openstreetmap.org/copyright\\&quot;\\u003eODbL\\u003c/a\\u003e.&quot;, &quot;detectRetina&quot;: false, &quot;maxNativeZoom&quot;: 18, &quot;maxZoom&quot;: 18, &quot;minZoom&quot;: 0, &quot;noWrap&quot;: false, &quot;opacity&quot;: 1, &quot;subdomains&quot;: &quot;abc&quot;, &quot;tms&quot;: false}\n",
              "            ).addTo(map_492b9a98146ec8186f06e5afb0ea99ed);\n",
              "        \n",
              "    \n",
              "            var heat_map_f2524fc7922bde5606bb7c0facf4658a = L.heatLayer(\n",
              "                [[30.179721, -97.841825], [34.623759, -111.155989], [41.8305, -87.66557], [32.744987, -117.156331], [32.170596999999994, -110.958386], [33.485668, -80.831591], [32.480231, -93.722251], [40.067197, -75.146085], [27.005457, -80.207459], [38.732507, -121.265093], [27.813281, -82.69994100000002], [34.12871, -117.93862], [39.883686, -76.204615], [44.86487, -93.42971], [32.678548, -81.04921800000002], [37.924881, -79.23964000000002], [43.319464, -77.72341899999998], [35.03253, -120.464661], [45.355107, -123.170689], [33.169552, -117.219081], [32.717757, -117.087114], [27.898009, -82.401938], [38.581566, -121.408354], [30.469395, -91.181909], [33.695612, -117.93528700000002], [34.184027, -118.101348], [47.64097, -122.26053], [25.942666, -80.204071], [36.006263, -83.534728], [37.44431, -122.269298], [33.89275, -117.88081], [25.672817, -80.400233], [32.661571, -97.282065], [33.86962800000001, -118.055103], [38.588911, -121.415262], [41.06153, -81.50536], [36.638587, -119.697349], [35.35257, -119.00127], [35.649152, -78.216832], [32.989108, -96.980963], [45.285628, -93.752824], [44.96424, -93.240591], [40.84707, -73.92560999999998], [33.051066, -112.059917], [37.89289, -122.12503], [33.822646, -117.922461], [37.826515, -121.199316], [30.414966, -87.288768], [40.606873, -74.043743], [40.82912, -73.84751999999997], [45.06499, -93.923259], [38.958086, -76.091365], [46.17196, -123.87586], [37.754568, -120.888394], [36.0352, -79.794], [39.52196, -77.60079], [26.351491, -80.118173], [39.70243, -86.11232], [34.13771, -83.95251999999998], [45.539591, -122.670759], [39.304005, -77.34014], [26.170941, -80.157878], [30.364691, -81.668867], [40.67451, -111.89877], [39.198457, -76.632202], [25.930078, -80.244866], [38.79911, -121.20988], [26.328982, -81.805612], [37.44787700000001, -121.92153], [38.81562, -94.50693], [26.70595, -80.07141700000003], [40.69153, -73.9991], [45.523011, -122.66543], [33.059202, -81.421705], [32.83971, -97.32084], [38.68402800000001, -120.639656], [33.458787, -86.752156], [38.01046, -122.23015], [43.0322, -88.16243], [33.56433, -112.03475], [48.869957, -122.485938], [34.276495000000004, -84.814453], [35.250784, -80.89455], [25.72059, -80.321], [34.291646, -118.468024], [28.25979, -81.605851], [41.532201, -72.808276], [29.995704, -90.07944], [40.25663400000001, -75.634813], [33.775308, -117.849643], [36.23799, -86.78529], [37.056868, -120.837192], [39.128311, -77.203685], [38.681033, -121.329489], [38.53415, -122.725194], [38.804923, -120.109409], [41.68175, -71.90811], [33.936778000000004, -118.35913700000002], [37.768166, -121.169727], [39.63525, -84.23055], [33.311931, -84.607007], [34.809334, -82.383353], [34.07239000000001, -117.92249], [41.847514, -72.66494], [36.521054, -119.56512], [38.499957, -77.381173], [38.428442, -104.60775], [37.72165, -121.53746], [45.48623, -122.399365], [29.042447, -81.994736], [43.090908, -123.570061], [39.365805, -77.16549], [28.284998, -81.416146], [29.711544, -95.46001], [37.572373, -77.456756], [34.529954, -80.375279], [44.41073, -69.075818], [39.295962, -77.33398199999998], [38.650218, -87.120673], [35.833549, -119.38426499999998], [34.066866999999995, -118.019545], [39.310477, -120.139267], [40.89048, -74.00316], [30.678731, -88.127163], [40.146821, -75.395232], [29.788733, -95.540068], [28.21721, -82.69367], [42.49641, -83.35094000000002], [34.219026, -118.231471], [39.786491, -86.135377], [25.889555, -80.167928], [39.17749, -121.053558], [27.792159, -82.356337], [35.779918, -78.623544], [39.02263, -77.103048], [34.003725, -118.286382], [39.983888, -76.722162], [40.559025, -111.89816100000002], [40.399678, -77.934361], [25.777509, -80.33676], [41.065217, -73.506362], [38.071482, -79.103139], [40.74158, -111.896106], [47.702656, -116.82611599999998], [37.54471, -77.43296], [36.867811, -76.21092800000002], [40.72826, -73.97163], [25.941478, -80.22927], [32.763037, -117.163507], [28.613763, -81.477337], [38.71324, -76.87818], [40.079286, -76.253273], [38.118966, -77.517331], [29.527538, -98.558519], [37.901891, -121.285743], [41.04178, -73.57599], [30.07153, -95.18935], [41.547106, -72.804197], [39.76615, -104.99943], [35.674605, -119.186417], [33.992003000000004, -118.066991], [40.01865, -76.74223], [40.79721, -74.06226], [40.78132700000001, -111.949195], [43.313486, -78.826041], [34.648478999999995, -118.752739], [42.456946, -122.819148], [33.992417, -117.931792], [26.372379, -81.80775799999998], [34.135343, -117.982636], [34.004649, -118.409824], [33.9352, -118.0925], [38.57399, -121.384304], [41.08961, -85.11511], [36.745032, -121.739901], [38.713475, -121.41366], [37.141604, -120.274431], [38.669518, -121.084192], [32.063007, -86.054047], [39.356449, -123.509341], [35.83381400000001, -78.632772], [33.926790000000004, -118.17798], [33.911108, -112.145503], [47.139571, -122.096087], [34.134646000000004, -118.073338], [37.969689, -122.516236], [47.77995, -92.656247], [37.316561, -122.30226299999998], [35.369249, -119.447661], [33.77238, -117.83082], [44.55515, -123.279637], [40.724698, -74.133049], [40.732001, -73.320429], [38.788131, -77.643461], [41.85558, -87.64455], [36.15368, -115.09141], [25.943921, -80.20533], [39.62951, -104.90471], [42.85948, -83.7397], [33.801176, -117.182088], [30.23054, -81.51431], [36.564326, -121.911775], [40.709683, -74.001502], [39.493676, -76.18494399999999], [45.594806, -109.053996], [40.332598, -74.63675699999997], [29.61346, -95.435246], [30.391259, -91.047113], [32.756593, -117.087923], [40.310351, -79.626163], [30.958994, -87.486488], [47.602477, -93.727572], [25.703424, -80.159825], [37.576883, -77.464331], [37.72543, -121.103936], [46.865999, -101.928785], [33.77437800000001, -118.103071], [43.25011, -73.67075], [35.839014, -78.673707], [41.69986, -87.65352], [33.467096999999995, -117.70121], [39.307129, -76.768999], [38.946951, -76.841093], [41.916758, -93.57044], [42.29063, -83.13027], [36.263687, -86.73799100000002], [28.380919, -81.505104], [37.6524, -122.09887], [30.42802600000001, -86.606981], [28.513244, -81.391694], [38.943538, -121.097651], [34.820512, -81.03302099999998], [35.04396, -81.816641], [25.728964, -80.419674], [33.54436, -117.67356], [28.551912, -81.491336], [25.685147, -80.42495], [34.069627000000004, -118.15076299999998], [25.823117, -80.206385], [39.296804, -76.818409], [39.72542, -105.022004], [34.117799, -118.337568], [38.66086, -121.35055], [33.90504, -118.18406], [38.5982, -121.410748], [40.743535, -111.685075], [42.32584, -87.83915], [34.002154, -118.41196], [40.412139, -79.704583], [39.64024000000001, -75.79718000000003], [26.139009, -81.716859], [42.985349, -123.869186], [40.555483, -76.002248], [37.785313, -79.399913], [26.01802, -80.18984], [44.437172, -119.296918], [26.328236, -80.11668900000002], [38.743586, -121.174452], [34.714668, -120.489451], [40.580605, -111.834021], [33.480266, -112.075226], [36.078248, -119.025727], [34.168935999999995, -118.612829], [40.02023, -111.76247], [38.898177, -121.118067], [25.810352, -80.144072], [46.5935, -112.000111], [40.64165, -74.03068], [34.380859, -82.411895], [37.861176, -122.032978], [34.037037, -118.377532], [45.562665, -122.586609], [33.841592, -118.286308], [34.253493, -118.472388], [39.973851, -111.505233], [39.122132, -77.197011], [28.539615, -81.30690600000001], [32.780721, -96.773626], [33.972038, -81.146637], [34.888232, -92.382477], [37.344049, -77.405925], [30.480955, -91.161634], [40.700179, -73.80883399999998], [39.259273, -121.65565], [33.48113, -111.72884], [35.397768, -119.074378], [39.766376, -75.48599399999998], [46.937952, -122.493882], [33.2078, -80.54356], [35.021761, -82.503281], [26.44815, -80.17434], [30.381586, -87.306058], [34.032268, -118.189326], [25.946538, -80.158084], [38.815883, -77.128187], [35.747352, -78.615224], [38.109838, -79.059457], [39.957014, -75.15545], [37.086037, -119.32107], [32.789066, -117.167572], [33.950105, -118.279661], [28.877447, -82.363342], [43.061906, -83.636075], [39.035123, -94.55374], [43.649448, -123.662413], [34.154156, -118.239142], [27.797128000000004, -82.355163], [30.427159000000003, -91.169048], [27.84531, -82.326895], [34.843021, -82.28248], [38.693247, -120.71504], [35.117023, -85.29105], [30.322265, -81.681025], [41.91786, -87.67156], [33.77995, -118.27958999999998], [34.090747, -118.318499], [28.072123, -82.769729], [33.94068, -117.26747], [32.47013, -95.45883], [33.587654, -81.940663], [35.152689, -80.874365], [34.233584, -118.308604], [40.31534, -83.06692], [40.263929, -78.589964], [33.854302000000004, -117.805351], [29.555802000000003, -95.124442], [40.11457, -75.45429399999998], [34.911214, -82.111591], [25.633167, -80.382621], [44.969544, -93.300743], [32.34823, -86.322], [42.636658, -73.53948299999998], [43.59966, -116.50835], [33.086844, -80.059884], [37.6567, -121.90161], [43.17114, -75.32408000000002], [29.726825, -95.334881], [38.839917, -76.86643199999997], [45.532847, -122.841943], [34.71558, -87.68361], [45.370949, -122.746821], [37.67883, -97.340751], [40.683692, -74.389296], [45.54618, -122.53612], [40.84899, -73.939346], [33.46273, -112.18653], [29.592017, -95.190237], [33.94577, -118.09436], [42.493834, -73.495406], [47.58998, -122.30598], [30.25059000000001, -81.57521], [32.673971, -117.082928], [40.501619, -121.994353], [32.819494, -117.12653600000002], [40.836114, -122.32818600000002], [33.88426, -117.88037], [35.52261, -82.95872], [32.741244, -96.918641], [37.59861, -122.422499], [32.480713, -93.781227], [34.033138, -118.145168], [43.291301, -73.68062900000002], [33.73281, -117.98926000000002], [30.332777, -97.687846], [32.8128, -96.86429], [42.27175, -85.290824], [33.85923, -117.25814], [40.27969, -78.946412], [39.029971, -77.12309], [40.6485, -73.89309], [34.003724, -118.286518], [45.142468, -93.267477], [33.669543, -84.39788399999998], [25.898637, -80.359721], [30.390924, -97.72039], [33.942034, -118.011585], [42.38558, -83.25495], [36.417431, -80.229716], [33.783735, -118.091473], [39.74984, -105.01722], [44.96583, -93.258179], [35.19073, -89.96193000000002], [30.17921, -81.62425], [42.455509, -83.09571600000002], [37.836152, -79.369815], [31.528890000000004, -81.44507], [38.611847, -77.30269], [40.697317, -111.980688], [34.3087, -117.47093], [34.310022, -117.472524], [33.95328, -118.08998], [44.04954, -92.49143], [37.332991, -121.938167], [35.72475700000001, -78.655557], [38.496, -121.40904], [41.50172, -81.66244], [34.066728000000005, -117.220861], [38.875111, -121.131123], [36.791484, -76.66901999999997], [32.777291, -96.783531], [32.28849, -90.24444], [34.883619, -117.061375], [40.781807, -76.170361], [34.991501, -85.224756], [26.13501, -80.16923], [33.753785, -84.495287], [36.84476, -76.43434], [25.804242, -80.321342], [37.39332, -121.919499], [34.656161, -92.412019], [33.78153, -84.39121], [43.101757, -123.482111], [29.95164, -90.07837], [34.045736, -117.92565], [39.63525, -84.23055], [39.72889, -105.01489], [34.052170000000004, -118.25988], [37.039492, -122.070121], [35.664145, -78.795916], [34.06358, -117.8176], [34.493025, -118.197765], [28.548147, -81.387052], [35.190979, -89.919201], [29.958721, -90.095716], [25.672176, -80.416512], [40.80244, -73.43782], [30.54023, -84.60086], [32.93285, -96.75481], [37.531971, -121.945461], [40.560107, -74.321527], [39.27818, -121.087079], [37.06209000000001, -76.42206], [28.557188, -81.414198], [38.871806, -76.98214300000002], [37.525377, -77.343624], [36.846001, -76.183213], [44.901834, -93.275054], [38.521081, -78.776983], [45.566145, -117.934524], [33.949675, -118.170308], [34.065158000000004, -118.000227], [37.608139, -120.993552], [37.873036, -122.305575], [40.93461, -73.83654], [28.071674, -82.73900400000002], [38.849611, -86.922687], [37.580637, -77.47965400000002], [29.769994, -95.34955], [42.494863, -73.507646], [37.908679, -122.320972], [34.94011, -82.264587], [40.0893, -111.73095], [34.034432, -118.266642], [34.401173, -80.058027], [41.569847, -87.378726], [32.312914, -95.259603], [41.816555, -87.826077], [45.06465, -93.21359], [45.35023, -123.17506000000002], [30.322297, -81.682716], [40.94569, -78.51808], [32.926097, -96.829712], [39.957436, -75.14628], [36.713144, -119.988212], [40.58775, -111.9102], [39.696872, -75.653769], [38.77277, -90.34079], [39.70703, -80.53106], [38.57259000000001, -121.517145], [35.777039, -78.60765699999997], [39.725322, -105.016861], [34.182344, -117.18358899999998], [44.950979, -93.11457], [30.301545, -97.5655], [33.089642, -117.079859], [39.08341, -77.50554100000002], [28.638677, -81.4455], [34.026256, -117.753535], [33.524023, -112.111263], [40.838531, -73.882809], [38.00948, -77.908813], [34.560136, -82.63230300000002], [33.38626, -111.81673], [34.073807, -117.752763], [41.55293, -81.59971999999998], [32.817074, -96.867908], [37.454377, -121.921288], [25.7022, -80.33555600000003], [25.876102, -80.219555], [42.23899, -120.30222], [25.642258, -80.334766], [47.258112, -122.329757], [48.85155, -95.61486], [25.925432, -80.293221], [30.00701, -95.42734], [33.880553000000006, -117.569913], [25.651477, -80.383604], [35.245202, -81.006051], [38.97064, -78.429604], [29.333768, -82.151561], [36.607981, -121.860282], [30.42429000000001, -97.671442], [35.574145, -119.614905], [32.938018, -117.241496], [33.10044, -117.30847], [34.051782, -118.22361200000002], [34.074152000000005, -118.271881], [39.231652, -121.040407], [29.61373, -95.41827], [43.92309, -91.45441], [42.146662, -87.879998], [33.740439, -117.833716], [41.17902, -73.18119], [32.206839, -110.968483], [43.17237, -76.11476], [35.373139, -118.967583], [33.998544, -118.176139], [34.623815, -117.826984], [34.155496, -118.40102], [30.19462, -81.73474], [40.076029, -75.159033], [25.768189000000003, -80.386926], [44.98093400000001, -93.348115], [33.458818, -112.18705], [41.79314, -85.52605], [34.06378, -80.977129], [34.722018, -77.981888], [38.991882, -94.502325], [34.77495, -82.33771], [43.206406, -77.67596800000003], [34.059158000000004, -118.245397], [38.760699, -77.210701], [40.850241, -73.922923], [29.69173, -95.28362], [37.461286, -121.177943], [33.759726, -117.92148799999998], [38.89981, -77.01991], [32.792986, -96.72711], [45.436568, -118.366358], [38.683752, -90.219022], [39.162154, -122.147059], [26.00746, -80.21389599999998], [33.832431, -117.931993], [41.581016, -72.026395], [25.927231, -80.293364], [30.444839, -87.22972], [43.692937, -116.459659], [29.5447, -98.43814], [40.574644, -74.330395], [37.645517, -121.016048], [38.41041, -122.71595], [29.928802, -82.65235899999998], [38.450462, -123.118482], [41.38982100000001, -73.511034], [29.752961, -81.348427], [35.099616999999995, -80.78012700000002], [41.175931, -123.703404], [38.553088, -121.375116], [32.64204, -96.82996], [37.82617, -122.27674], [34.113784, -80.94445], [33.940237, -117.397379], [34.201127, -118.468526], [40.41092, -111.47821], [34.740111, -92.332248], [35.380417, -119.044622], [40.667915, -75.606967], [34.799119, -82.3767], [43.473786, -85.14468000000002], [40.664616, -73.845237], [37.088346, -121.567584], [34.690521000000004, -77.945369], [28.18690800000001, -82.452611], [37.32451500000001, -122.399872], [37.336563, -121.857256], [25.684604, -80.400559], [40.59398, -77.57439000000002], [37.552525, -77.47882800000002], [35.10623, -106.65769], [30.265907, -97.735008], [40.06695, -75.66226999999998], [34.016963, -118.078506], [39.725286, -105.13066299999998], [28.258077, -81.331621], [33.204814, -97.164148], [32.7161, -117.117766], [40.186711, -75.143425], [36.328187, -119.490405], [33.91369, -118.11368], [28.394596000000003, -82.66474000000002], [28.402372, -81.482559], [34.137733000000004, -80.927278], [46.17534000000001, -123.86931], [37.990271, -122.06743], [40.887776, -78.231597], [40.610886, -103.57231], [25.702858, -80.414741], [34.206886, -118.228662], [34.04243, -81.086702], [38.683556, -121.159427], [33.710871000000004, -117.80115], [37.56024, -120.920829], [25.73589, -80.319411], [33.46213, -112.05922], [34.68097, -118.16309], [42.51658, -71.0013], [32.36233, -86.223128], [37.01022800000001, -121.515662], [34.143328000000004, -79.826621], [47.08457, -109.452702], [33.938067, -118.098356], [39.90371, -82.90334], [29.777490000000004, -95.42223], [30.320208, -97.750602], [41.594106, -83.55776], [34.357242, -119.442761], [34.153994, -118.344007], [38.52292, -121.466471], [38.939784, -94.570312], [44.048568, -123.050222], [42.34741, -83.108179], [46.118401, -123.924956], [34.1594, -118.22519], [35.024809000000005, -85.341796], [40.700773, -78.44044], [34.044903999999995, -81.118438], [43.701263, -92.714372], [29.670107, -95.558631], [33.955951, -117.380917], [37.82691, -122.2673], [33.45024, -80.72115699999998], [30.161331, -82.733131], [25.564135, -80.37219], [37.78999500000001, -122.250759], [38.91204000000001, -77.05229], [40.201188, -75.240432], [32.399517, -93.834491], [34.0389, -118.43988], [37.394764, -122.008331], [33.43648, -117.61891], [37.539941, -77.337124], [38.764861, -111.356316], [34.183954, -118.307265], [32.8687, -96.77032], [34.258207, -117.291298], [34.029398, -118.399322], [33.916342, -118.261376], [32.409249, -90.147575], [39.949191, -79.10611800000002], [38.579361, -82.012157], [40.171455, -78.907896], [39.721805, -75.66187], [45.01977, -92.98478], [36.10102, -95.91411], [40.62301, -111.903916], [33.87636, -118.08778], [36.748183, -119.06391200000002], [34.030448, -117.609148], [33.486069, -80.86368399999998], [28.550705, -81.447503], [33.929078000000004, -81.042766], [44.964236, -93.236033], [25.864622, -80.234131], [35.403345, -119.040542], [41.772881, -74.052532], [41.229309, -112.00741], [37.387176, -120.604376], [34.035340000000005, -118.32982], [30.419763, -91.099076], [39.015787, -77.00135999999998], [28.188911, -81.5029], [41.26011, -112.02418], [42.468971, -82.919086], [25.629115, -80.381911], [34.078302, -117.741598], [39.831332, -86.27597], [44.89048, -122.99472], [42.900334, -117.33843600000002], [32.821562, -96.678532], [30.228316, -97.58846], [38.671329, -121.207099], [39.76312, -104.783701], [42.673838, -71.176587], [30.26585900000001, -97.738607], [43.130109, -73.585585], [44.96677, -93.22427], [25.734958, -80.319197], [30.41719, -91.43894], [33.795768, -117.877724], [42.4262, -71.10309000000002], [29.990814, -90.065679], [42.970028000000006, -73.806063], [32.983361, -96.712555], [34.031319, -118.43371], [25.901833, -80.387027], [43.020913, -70.830244], [32.115, -111.03421000000002], [36.05896, -80.19795400000002], [35.057988, -89.834029], [37.105709, -121.015535], [41.80568, -71.44088], [34.019375, -118.152381], [40.840341, -73.885734], [35.154708, -80.848443], [28.44076, -81.25935600000003], [37.554292, -77.48382], [43.131335, -75.211321], [41.74381, -87.61476], [34.015056, -118.169706], [40.345332, -80.057846], [36.1757, -115.16565], [42.5496, -71.47652], [39.08673, -94.54109], [37.743812, -122.199344], [35.93263, -86.52931], [30.453151, -91.166066], [44.874307, -93.03992], [44.273775, -121.169506], [28.030725, -80.653477], [28.638475, -80.83590699999998], [40.172249, -75.07351], [42.425218, -123.039675], [37.256288, -80.175669], [39.72579, -105.04832], [30.537065, -87.08731999999998], [37.70027, -121.77743999999998], [40.556727, -75.425595], [40.028141, -75.024026], [26.383485, -80.170929], [41.858861, -88.102485], [37.869289, -77.454274], [27.803572, -82.35280999999998], [37.82216, -122.32819], [35.16135, -80.838104], [36.038128, -86.646866], [40.737293, -73.607507], [34.234876, -118.47633799999998], [25.714093, -80.428666], [39.93336, -79.029175], [41.18066500000001, -80.49280300000002], [25.890445, -80.18243299999997], [36.959665, -76.410912], [35.12854, -80.43214], [28.535368, -81.285645], [40.533555, -76.435902], [39.170796, -77.653637], [40.87112, -72.80029], [45.045738, -93.107934], [34.301301, -117.459307], [32.839674, -97.266293], [25.631644, -80.41476800000002], [34.06446, -118.00388], [42.281322, -83.199114], [39.996078, -75.761383], [29.660084, -82.403662], [37.551215, -77.428067], [34.063714000000004, -117.267422], [34.211869, -118.228484], [37.554805, -122.27803], [35.84665800000001, -78.565141], [38.763576, -77.182891], [38.61268, -90.21634], [42.93255300000001, -83.57422], [38.322738, -120.926603], [28.227225, -81.656553], [45.194864, -122.789874], [47.55098, -122.06701], [36.82817, -76.19528000000003], [33.911908000000004, -117.446896], [47.898497, -122.109341], [26.014954, -80.166872], [40.910521, -74.506863], [44.989711, -93.204456], [42.96198, -71.06233], [25.933236, -80.323555], [34.060739, -118.250516], [30.428379, -91.054588], [35.094484, -119.109917], [34.709125, -92.402132], [47.620291, -116.771781], [33.8597, -118.303644], [41.606082, -112.081037], [41.789299, -72.656654], [40.758056, -124.187737], [43.009864, -83.69380100000002], [29.993068, -90.04274000000002], [33.66171, -84.02468], [38.740893, -77.189801], [37.694117, -77.711316], [38.226942, -121.189805], [37.991459000000006, -121.28646299999998], [43.21978, -71.52255], [38.84883, -122.72281], [36.669341, -114.526328], [25.510359, -80.432757], [25.869116, -80.21090699999998], [39.441654, -77.404211], [34.02006, -118.19021], [39.293259, -74.970703], [38.964566, -94.543108], [32.78553, -96.62459], [44.88988, -93.28328], [34.008314, -117.954569], [25.749454, -80.335813], [43.05152, -83.31868], [33.709489000000005, -87.477518], [25.859054, -80.322471], [42.87513, -71.49437900000002], [34.06899, -118.46328], [39.621055, -75.68802], [29.498867, -98.550551], [38.836968, -77.447424], [33.38714, -80.51728], [34.122869, -117.967633], [33.98266, -118.39496], [27.485423, -82.433718], [45.277372, -93.557864], [40.104305, -75.13087], [39.12525, -94.56687], [44.86311, -93.144739], [36.780164, -119.784572], [40.760934000000006, -111.914026], [28.551959000000004, -81.364441], [45.198002, -123.05892], [38.452539, -121.373796], [28.481974, -81.310223], [37.023272, -76.32956899999998], [40.232881, -122.255066], [32.503853, -93.726784], [39.734534, -121.816781], [34.02459, -117.7403], [26.667305, -81.889954], [46.675642, -92.463757], [43.047849, -77.463629], [33.99313, -118.282686], [33.673496, -117.886061], [40.41180900000001, -111.865308], [34.010312, -117.823445], [43.619526, -116.352582], [32.67127, -97.32002], [37.51083, -122.25249], [38.96149000000001, -77.18894], [39.961639, -75.182608], [40.690659, -73.581165], [45.039829, -122.728995], [45.07568, -93.05242], [34.026732, -117.567448], [33.520952, -117.664362], [34.120135999999995, -117.837183], [35.71225, -78.65763000000003], [39.098163, -77.037667], [30.435347, -91.007478], [41.252342, -73.675314], [38.884835, -77.020873], [34.15436500000001, -118.386886], [33.87658, -118.073508], [35.410789, -80.843925], [33.931249, -118.385749], [29.854489, -95.468549], [38.337168, -77.080844], [36.909159, -76.260049], [45.48034000000001, -122.68023], [28.34801400000001, -81.38338399999998], [34.00309, -118.41114], [33.94747, -118.36829], [45.833212, -94.49344], [34.06871, -80.91776], [34.17328, -118.59966599999998], [41.525024, -74.074831], [45.34844, -122.643545], [40.013323, -75.301835], [42.359423, -87.874234], [45.75899, -119.18003], [30.645366, -91.106367], [45.037899, -122.963456], [41.057383, -73.81305400000002], [38.66146, -121.323796], [39.819969, -88.873885], [38.80111, -77.59382], [32.978893, -80.07715300000002], [43.174563, -77.59913399999998], [33.988768, -118.356051], [33.550402000000005, -84.567611], [39.115029, -77.191797], [33.957963, -117.31096200000002], [40.699056, -74.155858], [25.68941, -80.30759499999998], [40.741577, -111.89745], [37.70135, -121.77021], [39.011568, -94.498343], [28.592334, -81.307006], [29.716088, -95.538889], [41.350456, -122.351362], [33.989157, -118.281009], [40.872058, -73.99890500000002], [39.242027, -85.346342], [41.80663, -71.44072], [29.68377700000001, -95.275807], [26.714944, -81.828982], [32.664970000000004, -117.07964], [40.65069, -74.758669], [39.01655, -77.09872], [35.717486, -119.437147], [47.35992, -122.80533], [38.617917, -121.392216], [28.1859, -82.4277], [30.441282, -97.665313], [39.378358, -77.407103], [35.24012000000001, -80.93947], [37.967489, -122.51856], [33.883331, -117.536862], [41.648481, -93.773213], [35.41227, -119.0416], [25.581484, -80.388958], [37.933292, -121.296666], [34.134789000000005, -117.656224], [38.886548, -77.221001], [39.813889, -84.245975], [33.9268, -118.296743], [34.651406, -111.957529], [34.509167, -82.85386700000002], [30.199275, -97.793234], [39.14363, -84.45913], [38.071036, -120.181061], [27.835573, -82.699988], [44.499985, -92.538164], [28.501373, -80.782455], [28.340418, -81.38780600000003], [45.350211, -122.658482], [43.088443, -73.53078000000002], [38.645363, -90.190354], [38.933148, -94.522186], [37.331231, -121.843551], [44.370434, -93.253981], [34.15592, -118.44602], [27.306749, -82.533681], [37.44797, -121.92153], [35.168921000000005, -89.902416], [41.242988, -77.222398], [37.551194, -77.44027700000002], [34.315002, -117.354823], [40.10322100000001, -75.085864], [37.555539, -121.915845], [41.287742, -73.041163], [33.819569, -118.192076], [27.794388, -82.334983], [27.96771, -82.40164], [42.637177, -123.38553], [47.49938, -122.19534], [37.37531, -121.93404], [45.98814, -108.078835], [28.11669, -80.70585], [37.54583, -77.54911], [37.583447, -122.251686], [41.90172000000001, -88.10185], [32.776304, -96.624079], [44.638987, -121.128735], [38.05146, -122.53126], [40.78723, -99.857807], [33.819045, -84.252145], [38.902467, -77.056074], [45.251387, -118.020168], [34.239290999999994, -117.183326], [38.924365, -121.05592], [40.623951, -116.918555], [44.74745, -93.27125], [38.690762, -121.369742], [28.590072, -81.666175], [25.780996, -80.320585], [38.574916, -121.552663], [40.74092, -73.837298], [37.649987, -75.742088], [37.046111, -121.276944], [30.407298, -86.847047], [34.087194000000004, -117.664329], [37.440648, -77.463157], [33.75016, -117.832006], [36.173972, -86.770595], [25.604928, -80.36089100000002], [37.99972, -78.39956600000002], [34.345401, -119.418945], [38.569037, -121.469864], [42.19715, -88.0183], [32.753491, -117.23716], [42.84131, -73.74559599999998], [43.673838, -92.935112], [32.98837, -96.93941], [43.161806, -71.232248], [38.853846, -94.528738], [38.791919, -77.558594], [33.99406, -117.888706], [26.651327, -81.799529], [45.120924, -93.049811], [38.971523, -77.399337], [39.77969, -104.97191], [41.49241, -73.166102], [34.859071, -82.541066], [36.06451, -80.23588000000002], [37.396162, -122.014664], [38.55788, -121.448376], [41.13514, -111.155172], [44.891862, -95.037289], [35.121392, -118.12677], [29.742409, -95.416224], [25.869108, -80.208438], [42.14471500000001, -87.829985], [35.898755, -78.727086], [38.253031, -78.952378], [34.146440000000005, -118.16187], [30.688969, -88.01570699999998], [34.03006, -118.44154], [34.990093, -81.880052], [40.932851, -76.055376], [42.474329, -83.16005899999998], [25.97112000000001, -80.16575999999998], [45.016001, -92.778963], [42.9138, -85.583863], [47.504789, -122.609221], [33.74457, -118.004501], [33.985447, -117.345233], [25.602323, -80.35254300000003], [25.739222, -80.384383], [35.27034000000001, -80.81385], [32.583746999999995, -117.096668], [38.177526, -104.182229], [33.43733, -82.02679], [28.55191, -81.4842], [25.685064, -80.427401], [38.392751, -113.01172], [35.49329, -97.57939], [32.426533, -93.708954], [40.348487, -111.591665], [33.52601, -117.16511], [37.406073, -121.910169], [33.716025, -117.96698], [34.066173, -117.48888], [33.482795, -117.141294], [33.854437, -117.79064], [29.671504, -82.923776], [25.753639, -80.28845600000002], [37.657048, -77.57666400000002], [34.040785, -118.579056], [25.705575, -80.285494], [39.77673, -104.87621], [42.916758, -73.877612], [25.945683, -80.120941], [34.590473, -80.920114], [33.855349, -117.78766], [41.86225, -87.9185], [37.09525, -80.50381], [39.961992, -75.18245999999998], [39.927899, -122.186929], [40.11207, -83.031883], [30.231596000000003, -92.528175], [28.16229, -82.39449], [33.636911, -78.991524], [45.104273, -93.395215], [33.207025, -117.385272], [33.89886, -118.37022], [38.21423, -75.69997], [42.99279, -78.92669000000002], [33.129926, -97.039417], [33.887348, -118.326456], [34.066901, -117.440534], [38.836606, -121.165504], [38.804785, -76.977299], [34.027134000000004, -78.934753], [33.756759, -80.962518], [37.461591, -77.497951], [32.79618, -96.790006], [34.136527, -117.521148], [40.73098, -73.87383], [30.19130800000001, -97.773059], [41.812494, -72.518749], [32.697297, -117.136927], [47.62943, -122.15685], [42.08908, -71.22243], [33.887093, -79.135626], [42.470316, -73.611758], [39.967504, -74.20760200000002], [36.17526, -94.186228], [35.256059, -118.914303], [34.065095, -117.305821], [34.101681, -118.316495], [27.994399, -82.54545300000002], [25.944274, -80.307124], [32.960907, -80.00927], [30.386493, -97.647338], [38.990442, -77.077218], [38.029374, -121.9683], [25.577361, -80.370664], [47.6688, -122.32175], [44.799497, -93.038841], [44.99905, -93.08964], [39.24282, -94.51338], [34.023789, -118.242577], [37.495628, -122.45673899999998], [33.910587, -118.370557], [30.226167, -97.768889], [40.44246500000001, -79.762855], [40.546939, -86.39198], [34.42279, -118.428635], [30.191577, -81.710482], [32.83971, -97.32084], [34.008771, -118.15883], [33.882673, -117.624761], [44.931585, -93.131837], [33.75687, -84.46892], [35.09368, -81.00494599999998], [28.08424, -82.45470999999998], [45.660832, -121.544297], [27.460586, -82.575282], [34.86123, -82.25353], [34.097517, -118.616563], [34.142077, -82.226112], [33.808803999999995, -118.15636], [33.774529, -84.390468], [39.000833, -122.894034], [39.01194, -77.0414], [37.94844000000001, -122.512632], [26.37427000000001, -80.11654], [25.68425, -80.447868], [37.275849, -80.13855799999997], [34.120706, -117.875987], [32.443338, -93.714596], [43.164635, -77.630861], [33.97843, -117.33832], [40.062943, -77.476927], [29.938205, -90.06620699999998], [28.407493, -81.404546], [42.188415, -71.767684], [32.449675, -83.625628], [28.18389, -81.73891400000002], [32.83206, -117.11834], [44.966055, -93.254951], [33.683131, -117.87611], [30.450226, -97.666977], [33.85973, -118.299675], [37.632675, -77.50775], [27.837653000000003, -82.63877], [34.23452, -117.42193], [29.71833, -95.37784], [35.36124, -118.914248], [27.44747000000001, -82.52822900000002], [32.865582, -96.776421], [33.958559, -118.231222], [40.587809, -111.92526200000002], [26.617112, -81.683298], [38.598903, -121.382923], [32.911836, -80.02852299999998], [40.69566, -74.37106999999997], [40.917023, -74.81355699999997], [42.393883, -88.183936], [45.333849, -93.004814], [33.74808, -117.640678], [28.437369, -81.404388], [30.530895, -84.538999], [41.297651, -72.903162], [29.985798, -90.115453], [41.43949600000001, -122.432831], [29.88732000000001, -95.41219], [33.54181, -81.98661], [25.734897, -80.30295], [43.040903, -83.753918], [39.38554, -76.65897], [33.649545, -117.751604], [42.26908, -83.22256], [35.24771, -80.75249000000002], [40.67282, -89.66948000000002], [43.779255, -117.732941], [41.567396, -87.343165], [45.61522, -94.175656], [37.045, -121.289], [34.419909999999994, -119.673159], [32.713111, -117.137464], [29.77001, -95.34979], [25.715973, -80.382713], [33.85864, -118.03329], [40.65028, -73.86832], [37.839413, -122.296961], [32.922238, -117.115255], [37.44876, -120.801374], [44.28261, -94.80645], [36.75484, -119.76536000000002], [28.421363, -81.402794], [28.437533, -81.40436], [39.944926, -74.981356], [34.128727000000005, -117.921746], [35.284791, -80.77713], [34.152907, -118.256512], [40.790981, -73.79294499999997], [39.939817, -75.014186], [39.533877, -119.753074], [45.49505, -122.56527], [28.474823, -81.309989], [37.80771, -122.36764], [32.23593, -110.9475], [30.41158900000001, -91.100129], [39.32338, -120.878633], [29.51061, -98.47623], [42.68713, -73.79930999999998], [42.05833, -88.03693], [29.86747, -95.5639], [29.994764, -90.102567], [38.843708, -94.529382], [45.57723, -122.66133], [37.549191, -122.024901], [28.91122, -81.274433], [25.747509, -80.338235], [33.928934000000005, -118.28005], [33.846549, -117.862144], [33.612590999999995, -117.712855], [34.174791, -118.101775], [35.231766, -118.702874], [28.459201, -81.47228199999998], [37.841401, -122.297368], [37.49585, -121.922875], [38.880214, -77.238095], [45.715855, -120.237186], [41.838887, -77.09399300000003], [46.147406, -93.731721], [36.307739, -119.708079], [44.0015, -123.01616], [34.02426, -118.219832], [38.878495, -121.121843], [44.051517, -95.943678], [34.520244, -118.318169], [37.147376, -121.974778], [34.202354, -84.45396099999998], [42.404147, -88.98311], [33.223748, -117.396556], [42.18828900000001, -87.82526999999996], [27.95593, -82.46595], [42.931233, -73.803099], [33.897137, -118.267879], [33.870016, -117.670663], [35.43345, -80.66049], [35.139759000000005, -120.637747], [36.625419, -82.146677], [35.085658, -85.326403], [36.21073300000001, -119.198817], [45.705217, -120.300732], [25.70688, -80.31772], [33.903337, -117.462181], [40.654913, -111.899937], [40.245376, -80.20044200000002], [38.823419, -90.517891], [27.418383, -82.578699], [46.933973, -94.877478], [45.24944, -93.68532], [33.74227, -84.391459], [32.737064000000004, -97.062339], [33.898605, -117.476559], [40.731071, -74.131869], [34.067399, -117.571285], [29.693140000000003, -95.52563], [36.14121, -86.717458], [44.948381, -93.274147], [34.002107, -118.16512], [28.39289, -81.372167], [38.885074, -77.153525], [41.043955, -73.835113], [25.698611, -80.38217900000002], [33.773163000000004, -117.485271], [30.184217, -97.628835], [28.012146, -82.716725], [35.224382, -80.86583], [32.83317, -96.61265], [37.792904, -122.263037], [34.073260999999995, -80.98464], [35.104948, -120.621878], [42.13802, -122.63624], [33.815472, -117.279484], [25.768453, -80.336301], [38.567855, -121.613515], [34.159663, -118.466154], [34.189453, -117.427354], [37.545796, -122.288956], [45.710667, -118.990269], [43.87382, -93.27713], [41.581092, -73.908885], [34.954828000000006, -118.935482], [25.88099200000001, -80.24292700000002], [44.894595, -93.192632], [39.08253, -77.17198], [39.897032, -74.989918], [34.561170000000004, -118.13291], [30.907897, -85.376887], [37.977451, -122.044254], [25.647626, -80.386377], [41.2479, -73.08185], [33.029793, -117.276964], [32.820213, -96.777424], [38.261922, -122.748877], [47.589651, -122.254647], [38.69399, -90.45034], [44.179447, -117.135361], [42.348686, -87.882127], [40.478492, -123.778678], [33.709153, -117.95878], [37.05419000000001, -120.70567], [34.03111, -118.22299], [41.746783, -72.734829], [34.279093, -118.469668], [33.985713, -118.247734], [30.516392, -81.79594200000003], [33.58224000000001, -86.02701], [47.33392, -93.88411], [33.978875, -118.225227], [35.097911, -85.06457900000002], [30.490566, -87.26055799999996], [37.365707, -79.277692], [38.93774000000001, -94.4773], [38.836889, -77.447079], [34.273544, -118.58671], [38.53848, -121.47367], [37.968988, -122.507968], [35.39019000000001, -97.44116], [40.714093, -111.9041], [28.552387, -81.449477], [30.435347, -91.007478], [33.018317, -117.272227], [39.278026, -94.422861], [43.666962, -123.48041200000002], [33.669415, -112.067252], [34.788976, -92.473191], [33.836548, -117.331477], [36.255238, -119.356555], [44.030585, -92.558303], [25.925341, -80.153943], [44.8906, -93.3994], [47.16346, -122.48121], [37.40536, -122.06969], [36.775969, -121.669312], [29.779956, -82.16749300000002], [37.56253, -77.47022], [35.548464, -77.503126], [26.100082, -80.250163], [29.843124, -95.488938], [26.696812, -81.894616], [40.726222, -111.974346], [29.213318, -82.198904], [34.151796999999995, -118.147681], [25.761214, -80.37703499999998], [37.32309, -121.83583], [28.936795, -81.885492], [42.344838, -122.87483799999998], [38.57985, -121.5054], [25.811402, -80.193826], [39.088228, -77.005094], [36.627441, -119.68318700000002], [34.19724, -79.768165], [45.064405, -93.222845], [45.17582, -122.85518], [33.148959999999995, -117.33476], [41.84515, -87.98581], [34.645011, -120.519419], [34.777478, -117.479657], [25.019311, -80.511371], [27.44771, -82.57539], [34.068435, -117.39112], [38.183543, -120.890366], [35.057233000000004, -90.687514], [32.794355, -96.782479], [37.674967, -122.108133], [35.53399, -97.58335], [28.756532, -81.311652], [38.88218300000001, -77.400072], [43.183724, -77.599374], [45.067215, -93.186025], [35.090656, -81.69171], [41.637443, -74.07831], [47.528858, -95.585752], [44.78621, -93.21958], [40.85318, -73.96068000000002], [37.979348, -122.317476], [29.513908, -98.553271], [47.58313, -122.17561], [25.58164, -80.36615], [34.148507, -118.37239], [34.26034, -118.43873], [28.493792, -81.459929], [39.02216, -122.064086], [25.70381, -80.366309], [37.678251, -122.388248], [41.67603, -71.97269], [29.990677, -90.070755], [36.11167, -86.63011], [25.998799, -80.166514], [32.66421, -96.783989], [40.133727, -75.447387], [45.54754000000001, -122.55524], [40.06669, -75.145219], [47.46727, -122.2284], [32.294909999999994, -95.301797], [33.887312, -118.363433], [38.525949, -121.762814], [30.453367, -91.034154], [40.169904, -120.369367], [42.95577, -88.04672], [40.969208, -96.388434], [40.528722, -77.39214799999998], [25.735642, -80.26213], [43.73183, -93.72829], [35.051305, -85.189809], [44.78416, -93.42033], [33.062259999999995, -112.04792], [39.250264, -76.018794], [44.746626, -94.36987], [39.804946, -74.23155200000002], [41.697495, -72.869472], [28.406143, -81.470391], [39.537101, -75.648905], [47.601734, -122.324584], [39.295616, -121.375645], [32.894257, -79.99275300000002], [44.85907, -93.35548], [32.351303, -86.115521], [37.772077, -121.324797], [44.415492, -96.28204], [38.057803, -121.259612], [33.524404, -112.169197], [25.950533, -80.120914], [34.17667, -118.4683], [38.153468, -122.436114], [45.206915, -93.55269], [38.93081, -94.52665], [36.117689, -95.868626], [28.260976, -81.34122099999998], [25.857666, -80.32286500000002], [25.684325, -80.41642900000002], [33.937227, -81.271884], [34.32277, -117.39854], [39.976125, -76.695417], [37.25886, -80.17206999999998], [37.755308, -121.43512], [41.161419, -77.475373], [38.878233, -77.267044], [32.65217, -117.06859], [39.530922, -119.785341], [39.894339, -74.881287], [38.889243, -77.418356], [40.879215, -76.018964], [33.165794, -117.215604], [47.57213, -122.17726], [41.247505, -78.73214499999997], [38.87318, -77.081805], [34.06691, -117.44019], [34.075615, -81.154461], [39.824679, -104.965429], [39.267622, -78.307489], [41.655962, -87.66175799999998], [33.526529, -86.659909], [40.849493, -73.942082], [40.865995, -73.929839], [42.056821, -121.646641], [35.262529, -112.042128], [44.065508, -116.995039], [37.5549, -79.66153], [43.83413400000001, -92.166515], [36.091235, -80.28856800000001], [26.069182, -80.252308], [41.541982, -73.02294499999998], [37.679961, -121.04973400000002], [36.753189, -119.754601], [27.048112, -82.39761999999997], [28.54148, -81.38242], [38.681111, -121.333263], [34.150116, -118.079654], [34.067755, -117.539495], [25.63705, -80.337189], [39.872335, -75.348969], [26.16475, -80.205892], [29.688606, -81.569349], [33.14985, -97.05875], [37.484761, -76.945463], [31.806172, -106.26817], [45.547396, -94.205393], [30.457155, -87.224417], [33.44129, -84.69784], [42.974899, -85.59079], [35.32824, -80.74549], [33.040240000000004, -80.15098], [37.411841, -122.078095], [40.18896, -74.74708100000002], [39.198907, -76.700502], [42.39351, -122.492023], [39.349004, -77.391182], [40.21961, -111.10414], [34.78366, -82.475227], [43.143703, -77.61829], [34.032067, -118.153577], [25.883461, -80.21574], [32.76376, -117.16086], [38.57699, -90.37386], [38.365148, -120.792349], [32.86564, -96.700555], [34.065656, -118.242643], [34.121311, -117.261817], [40.59269000000001, -111.902414], [41.031383, -111.947376], [33.861268, -118.096879], [36.567597, -121.778559], [42.0228, -88.30776999999998], [34.006408, -118.155502], [44.94861, -92.95907], [30.313758, -97.708321], [35.197094, -113.895703], [42.96997, -74.02915], [37.575983, -121.881032], [42.175666, -88.074549], [40.71819, -112.09494], [38.365352, -85.75515899999998], [30.447441, -97.638923], [32.761671, -117.165185], [29.120518, -82.05359], [36.29920900000001, -94.177207], [32.591232, -94.821163], [37.827604, -120.960963], [28.536236, -81.40136899999997], [35.885985, -119.266724], [28.597382, -81.244753], [29.718605, -95.504168], [39.129431, -77.204141], [36.033259, -78.97550600000002], [29.71763, -95.56502], [34.446571, -118.662048], [35.037623, -80.869508], [25.7307, -80.317718], [40.575707, -123.091209], [44.8896, -93.35018], [28.592616, -81.381185], [43.071411, -73.751121], [36.561442, -119.556593], [43.03252, -87.97272], [32.913529, -96.871518], [40.90004, -73.86131], [44.064762, -123.099794], [33.873445000000004, -118.34275], [33.689907, -117.173899], [40.104116, -75.334414], [25.884161, -80.35014], [45.68235900000001, -121.507061], [34.319747, -117.481361], [37.086781, -121.167873], [42.35689, -83.07951], [34.068690000000004, -117.545057], [34.045833, -118.008901], [40.66746, -73.43970999999998], [39.921699, -104.987775], [38.837304, -77.446698], [32.70923, -117.14773999999998], [39.681326, -75.736191], [40.49859, -121.974264], [33.881170000000004, -117.88057], [35.902536, -77.850894], [27.755671000000003, -82.65889200000002], [38.660775, -121.346852], [30.49358, -91.158933], [33.385693, -111.864757], [34.592245, -117.258785], [29.105579, -82.2614], [38.153468, -122.436114], [33.910990000000005, -84.21488000000002], [39.71262, -105.69698], [30.40435, -90.15678], [25.733243, -80.333047], [39.77841, -104.91289], [32.440075, -93.716502], [33.873535, -118.245894], [45.665262, -108.757749], [34.068177, -117.385808], [33.782962, -118.280603], [43.18094, -77.63169], [27.90106, -82.40175], [29.970372, -90.068014], [45.501225, -122.65478600000002], [35.055795, -118.967095], [40.631339, -79.648214], [36.21357, -79.803439], [37.78726, -76.752227], [34.068614000000004, -118.216742], [43.922847, -90.264965], [35.368997, -118.905267], [33.580651, -112.236615], [34.978348, -81.077455], [37.467273, -77.59415], [32.757422, -96.778399], [41.107085, -79.489485], [40.19775, -75.11605], [45.866815, -119.29174], [38.707475, -121.309148], [41.508, -75.18011], [41.00986, -111.48163999999998], [41.597922, -73.91118], [40.395251, -123.102354], [39.911063, -76.310765], [31.2248, -81.51909], [39.079136, -77.60477900000002], [36.204722, -78.678549], [30.433545, -87.229293], [34.405552, -110.666455], [34.834712, -82.252544], [25.606077, -80.350803], [36.18157, -86.749309], [34.849899, -117.08592], [37.810495, -122.364721], [33.961544, -118.369532], [26.09378, -80.16883], [37.98863, -122.040496], [36.254829, -119.808757], [34.04868, -118.256996], [28.431732, -81.40816099999998], [36.747739, -119.822994], [35.060227000000005, -80.991617], [40.66928, -111.90125], [27.429258, -82.595936], [45.308639, -93.003046], [29.611632, -95.225176], [33.88756, -118.265765], [40.19224000000001, -74.5955], [37.952872, -122.328007], [28.50935, -81.40045400000002], [42.428579, -121.304864], [26.15352, -80.166898], [35.898545, -78.876203], [39.13519, -84.50103], [40.265134, -75.628017], [33.931, -118.2801], [45.61306, -122.67807], [34.39065, -118.475672], [35.23253300000001, -80.835512], [43.13249, -124.353678], [29.7168, -95.538896], [35.100599, -118.143185], [42.641247, -123.387733], [44.887018, -95.657132], [44.83816, -121.38651000000002], [39.987524, -76.273384], [29.075958, -81.273648], [37.615797, -120.993637], [36.025316, -86.78527], [47.63901, -122.24699], [40.617109, -75.5037], [34.949432, -119.693054], [38.151305, -122.112515], [36.62855, -117.0518], [33.967592, -118.047134], [25.76452, -80.260539], [34.413554, -119.695094], [39.53657800000001, -119.803273], [34.050206, -117.303683], [34.790362, -92.076654], [34.213726, -117.081847], [31.649378, -81.397306], [28.541926, -81.31065100000002], [39.131513, -76.642951], [38.585514, -121.450884], [27.846339, -82.347368], [39.42462, -120.035687], [33.526057, -117.165123], [39.017607, -94.553906], [28.449998, -81.469791], [38.68927, -122.019156], [33.887434000000006, -118.362741], [26.07294, -80.16705], [35.735703, -80.37081500000002], [37.683304, -122.127095], [32.794071, -96.705039], [37.52294000000001, -122.26619], [37.700442, -122.064242], [33.235747, -117.405152], [32.437023, -93.763084], [36.15859, -95.95819], [38.872873, -77.081613], [44.970346, -93.348793], [35.707874, -78.633003], [45.44464, -122.36084], [42.5878, -82.90319000000002], [42.40054, -83.07091], [41.86476500000001, -88.040174], [32.761972, -96.776719], [32.84411, -117.176173], [28.609264000000003, -81.41595600000002], [39.815394, -75.764448], [35.71197, -78.84291], [39.301338, -79.416783], [33.888148, -84.254517], [38.518374, -123.245665], [37.661044, -77.631034], [36.735998, -119.609988], [37.939248, -77.47341999999998], [39.02564, -84.56184], [39.797812, -123.5423], [32.9252, -96.78807], [26.19129, -80.20883], [39.16496, -84.5204], [40.734882, -74.12369], [39.191715, -121.506587], [38.650603, -76.88401], [39.9131, -75.14853000000002], [38.625681, -77.286334], [34.813972, -82.13530899999998], [34.151906, -118.235802], [47.88415, -122.23118999999998], [30.22649, -95.45776], [40.727659, -74.129465], [42.01291, -88.21735], [41.29294, -73.86811999999998], [34.555209000000005, -82.681335], [35.138849, -80.893364], [28.605924, -81.30754499999998], [32.75797, -97.31908], [41.101237, -73.986665], [45.1087, -93.30116], [34.027264, -118.148908], [40.765596, -111.986314], [30.2812, -97.74177], [34.783699, -92.391271], [40.12039, -75.77421], [37.54688, -122.023166], [42.09659, -80.08197], [40.90172800000001, -74.111347], [37.52466, -121.99233], [40.73988, -73.818017], [37.02359000000001, -76.32956], [42.933088, -78.7842], [39.168088, -78.003399], [34.08726, -117.646955], [35.47246, -119.498623], [38.85910300000001, -77.06996], [45.2915, -93.55526], [25.84423, -80.20687], [34.78971, -82.4864], [39.287109, -76.73941500000002], [32.68108, -117.08676], [27.780497, -82.335049], [36.250754, -120.241504], [30.219896, -81.38278199999998], [34.239067, -119.125712], [39.082521, -122.928718], [36.774495, -76.45059599999998], [45.64232, -120.7846], [34.035848, -117.322536], [38.645822, -121.377477], [45.00157700000001, -118.98696499999998], [34.01688, -80.94914], [32.847314000000004, -117.18238], [33.774408, -118.030961], [38.692777, -77.256305], [30.263701, -81.608026], [42.04145, -87.86950999999998], [39.306861, -76.752516], [38.997049, -77.027446], [43.1792, -77.66769000000002], [44.862102, -93.247972], [30.011762, -95.427879], [40.691174, -73.586699], [36.155644, -86.789715], [45.4419, -122.98451], [44.951627, -93.126234], [48.15712, -122.18983], [42.319079, -87.87997299999998], [38.641618, -121.272364], [38.07057, -122.53942], [46.16732, -94.36021], [40.851486, -73.952111], [25.869104, -80.21119200000003], [35.780571, -78.748508], [44.262091, -121.119124], [40.958218, -73.942985], [40.78108, -73.41665], [28.571449, -81.430614], [38.265876, -76.45228900000002], [37.57407, -122.31736], [34.656842, -82.701634], [34.710365, -82.38958000000002], [33.85923, -117.25814], [33.462959999999995, -112.1972], [25.623911, -80.414429], [36.19424, -86.75278], [38.63142, -121.50471], [47.286878, -93.431739], [35.08537800000001, -82.542994], [40.063802, -76.340636], [38.59944, -121.44128], [36.751625, -121.742244], [26.668839, -81.939102], [40.48918, -78.74716], [26.667271000000003, -82.144042], [39.018583, -76.61416700000002], [37.445768, -122.330072], [25.807901, -80.248339], [35.72329699999999, -78.590744], [45.516212, -122.66724], [41.542538, -72.813212], [32.308533000000004, -86.381376], [38.645487, -90.190041], [37.595254, -122.058332], [33.690827, -117.869067], [36.5958, -121.8675], [43.095692, -123.564554], [45.53959, -122.55983], [32.369629, -86.321224], [39.1515, -84.54082], [33.93283, -118.35903], [26.333428, -81.806251], [45.053216, -93.057852], [26.166186, -80.203218], [38.685869, -121.237935], [35.876118, -84.367124], [33.85412, -117.91981], [41.48057100000001, -100.501866], [42.066768, -88.135017], [25.928055, -80.153337], [35.352185, -119.039626], [45.507421, -122.718889], [34.40752, -117.399545], [38.947305, -94.896622], [33.979533, -118.392452], [28.359019, -81.678832], [34.01085, -117.430897], [35.772889, -78.63849499999998], [40.73994, -73.81858000000003], [27.61032800000001, -82.49374499999998], [26.6317, -80.06806], [27.894853, -82.729023], [34.380716, -119.481908], [38.20759, -122.162196], [37.42365, -121.92211], [44.239064, -95.602437], [40.60172100000001, -74.011965], [39.255935, -76.690656], [36.560947, -119.45763], [41.971981, -77.234875], [32.714699, -96.618497], [30.334447, -83.729964], [45.56587, -93.17325], [43.93072100000001, -91.428409], [38.08841, -121.691285], [28.455438, -81.364856], [32.798961, -117.210643], [43.86033, -117.59091], [42.935804, -78.904033], [33.92885, -118.2755], [37.586495, -122.33283], [39.871968, -75.035788], [35.209055, -80.757341], [38.27337, -122.671511], [35.86638, -78.717182], [42.743862, -74.26759799999998], [32.84172, -83.62238], [30.48137800000001, -87.249434], [39.5734, -104.98842], [39.028138, -121.39724], [33.461274, -111.98306200000002], [45.196853, -93.55743], [34.941325, -81.84066], [27.77738, -82.67933000000002], [29.732351, -95.476551], [34.102028000000004, -117.91553799999998], [33.873316, -118.248681], [45.426071, -122.744249], [28.638677, -81.4455], [32.61657, -96.82291], [25.78582, -80.25215], [32.664970000000004, -117.07964], [45.719825, -94.951115], [30.435454, -87.270725], [37.819472, -121.993114], [38.550306, -121.473874], [39.099805, -77.53663900000002], [38.923884, -76.931089], [25.92958, -80.188317], [39.113548, -94.564594], [36.835279, -76.15145799999998], [33.718556, -84.502279], [34.051028, -118.188817], [35.222629, -112.319337], [37.711312, -122.395505], [39.18711500000001, -120.9724], [28.811838, -81.365698], [33.66161, -84.02478], [34.10492, -118.189683], [38.51999, -81.35238000000003], [32.759912, -97.13164], [30.20918, -81.75929000000002], [40.379342, -120.80606], [45.663368, -111.125076], [29.78425, -95.602356], [41.844448, -122.57804099999998], [30.332063, -97.686185], [38.190863, -121.087733], [39.11821, -77.07501500000002], [30.349786, -91.061953], [46.835228, -95.67992], [39.866241, -86.047292], [38.290935, -122.034745], [41.91222, -83.66208], [40.249605, -75.663847], [32.149032, -90.278187], [42.04286, -88.27879], [44.945255, -93.456934], [37.52466, -77.603277], [36.984154, -76.426897], [37.903411, -122.312372], [34.694212, -111.743906], [28.42485, -81.404787], [34.868532, -81.22779], [38.730292, -90.335354], [30.41776, -91.142375], [42.980011, -83.76135500000002], [26.934624, -80.150359], [37.056569, -120.958633], [40.582467, -111.900262], [29.579794, -82.456547], [46.093708, -123.123661], [25.889269, -80.166689], [33.690251, -117.142313], [40.53469000000001, -122.154632], [34.00046, -118.17511], [38.898892, -77.068163], [28.537340000000004, -81.36501], [39.280342, -81.494906], [33.85378, -117.903245], [45.614539, -123.061367], [32.964884999999995, -80.00811], [33.237848, -87.572586], [38.814226, -76.894413], [29.39385, -98.51176], [38.33624, -122.024707], [33.610857, -113.629948], [34.055046999999995, -118.257009], [44.86224, -93.26812], [34.063708, -118.010468], [31.874236, -86.29378299999998], [39.462465, -76.65884], [34.02738, -118.23288], [30.421024, -87.322908], [47.40149, -122.22387], [35.095556, -80.93715999999998], [40.685344, -73.61205600000002], [34.01753, -117.81677], [34.055239, -118.178481], [43.78265, -123.05553], [25.88111, -80.32339], [36.046625, -86.661046], [37.478274, -122.260514], [38.575373, -90.444567], [33.842696000000004, -117.954759], [35.542691, -90.495167], [32.778171, -97.061344], [29.745924, -95.55768], [28.007184, -82.50361], [40.611329, -111.90618], [34.121033000000004, -117.828757], [26.6815, -80.23598100000002], [35.62, -119.655833], [25.615033, -80.309587], [39.1044, -123.19391], [45.0011, -93.22074], [38.452638, -121.325487], [38.794685, -77.447288], [26.685256, -80.06891], [44.926754, -93.274548], [37.338888, -76.715647], [44.28112, -92.34829], [29.68633, -95.45908], [30.444914, -87.24651899999998], [43.88193, -95.120866], [28.605341, -81.404977], [34.112393, -117.76256], [34.17198, -118.53231], [40.90882, -74.59313], [36.902672, -79.389942], [33.438541, -111.868306], [41.71969, -87.76844], [45.057474, -93.400751], [34.087198, -118.234118], [33.73382, -117.833969], [43.095488, -75.87459799999998], [32.698307, -117.14482], [29.10632, -82.115398], [40.05487, -78.07659], [42.959192, -76.9363], [43.886373, -117.492055], [37.614795, -120.939287], [39.745841, -105.39761], [34.063618, -117.293173], [37.201165, -80.267042], [33.69891, -84.257761], [33.938564, -117.135102], [28.595618, -81.20769200000002], [33.939152, -117.195849], [47.760282, -122.325521], [46.73276, -122.975367], [36.250754, -120.241504], [29.88732000000001, -95.41219], [34.03048, -117.59724], [39.13815, -85.95793], [45.07929, -93.17643], [34.076613, -117.745202], [39.29973, -76.74301], [33.85641, -117.78575], [32.93987, -96.7461], [33.392825, -117.197851], [32.282964, -110.961067], [42.13901, -72.02903], [40.341421, -76.74811700000002], [25.687068, -80.43012900000002], [29.737299, -95.522173], [40.63043, -111.87786], [33.493586, -86.818874], [39.068194, -78.229985], [35.213642, -80.923479], [33.065909999999995, -117.292054], [40.7103, -74.18131], [45.72334, -123.23894], [34.120497, -117.250243], [44.50211, -83.31936999999998], [33.37011500000001, -83.914237], [36.986555, -121.96955], [47.02431, -112.04359], [37.51146, -121.93772], [37.702556, -121.74631399999998], [29.717340000000004, -95.29492], [44.819004, -68.77947900000001], [32.749790000000004, -116.99857], [25.807457, -80.296385], [41.87162, -87.75895], [32.835677000000004, -117.138494], [30.006226, -90.020395], [34.269973, -118.854078], [34.067863, -118.029803], [35.866059, -78.71703000000002], [25.927723, -80.293386], [28.515190000000004, -81.25026], [37.399891, -121.140166], [32.762539000000004, -96.700608], [33.13177, -117.10541], [40.672963, -73.734923], [36.183545, -86.610737], [33.023337, -117.229824], [34.135626, -117.358134], [34.314411, -118.488997], [42.958828, -85.637689], [38.95898, -76.09331999999998], [35.381474, -118.974526], [25.905708, -80.16617600000002], [38.881694, -77.449143], [40.663801, -73.990484], [27.932037, -82.330559], [38.23052, -77.498663], [25.695414000000003, -80.407661], [35.46413, -97.46353], [41.746651, -72.73563100000001], [29.730919, -95.402463], [33.325814, -87.658013], [33.71443, -84.26864], [36.81568, -121.638373], [35.386111, -118.986111], [41.191338, -74.181565], [34.015370000000004, -118.05532], [40.88748, -73.89437], [25.641166, -80.410628], [33.70538, -117.954283], [33.92592, -118.308109], [47.85566, -122.11456], [45.45691, -123.83371], [38.259548, -77.157445], [40.69976, -111.91123], [35.557583, -82.596641], [38.471451, -79.696726], [30.480067, -91.089736], [34.365011, -118.503466], [39.322911, -120.203937], [29.288473, -82.106759], [38.838371, -77.431733], [29.967358, -90.070705], [38.974326, -77.077085], [38.581377, -121.303449], [37.861725, -122.039848], [36.17592, -94.218074], [39.276538, -84.819535], [36.156542, -86.775863], [27.052107, -80.239642], [48.8139, -122.54472], [26.004674, -80.20727600000002], [35.308144, -85.081726], [42.19039, -88.13545], [36.689171, -119.754777], [37.643866, -121.01333], [42.282956, -71.203391], [30.423041, -91.168831], [36.78049, -80.82635], [34.932521, -120.568331], [45.199266, -93.392447], [33.911570000000005, -84.480752], [30.57226, -91.07135], [32.460228, -93.810097], [33.758959999999995, -118.02203], [46.720047, -94.407846], [44.78435, -68.81024000000001], [36.746272, -119.776228], [28.458109000000004, -81.470321], [32.48648, -94.460823], [34.070426, -117.397306], [45.97167, -68.29831], [33.685520000000004, -117.8637], [29.685195, -95.507469], [26.743332, -81.9167], [37.032038, -76.369178], [28.415118, -81.474384], [42.32785, -71.05878], [32.809616, -96.802168], [34.066761, -118.000519], [29.971986, -90.066581], [40.170374, -76.191766], [38.903823, -94.781071], [27.988840000000003, -82.54583000000002], [32.744976, -117.18804], [29.6926, -95.28415], [38.007537, -121.330084], [40.955523, -77.77072700000002], [25.936946, -80.301776], [33.93399, -118.17749], [38.275465, -122.669176], [34.916265, -110.251056], [29.869965000000004, -95.397873], [40.12390900000001, -111.656552], [45.039442, -93.284832], [30.436927, -91.084538], [40.63844, -74.89435999999998], [35.179084, -113.795104], [25.951554, -80.2619], [41.051309, -75.316503], [43.022682, -83.702812], [25.868417, -80.233231], [33.887467, -118.104525], [38.084829, -122.551131], [29.176422, -81.824313], [28.451105, -81.470832], [32.295303999999994, -95.274897], [39.10681, -94.58524], [42.38084, -83.03227], [32.925389, -96.76286], [38.647917, -77.284451], [37.46223, -77.53246999999998], [39.3542, -104.86988999999998], [33.773842, -118.006276], [25.705621, -80.382526], [34.088815999999994, -117.479883], [33.963159999999995, -118.28106], [45.514694, -122.700595], [34.152427, -117.323845], [34.281903, -118.718401], [38.932338, -121.090864], [36.83749, -76.100803], [38.019186, -78.437823], [38.503157, -123.000298], [44.05263400000001, -123.251066], [37.56174, -122.27629], [38.220663, -122.132285], [37.649327, -77.513677], [36.63161, -78.13916400000002], [44.82969, -92.96001], [38.472749, -121.397197], [44.272199, -121.170157], [28.058642, -82.454613], [40.83405, -73.862971], [35.26429, -118.65835], [25.845326, -80.322514], [37.543169, -77.440084], [37.38251500000001, -120.708922], [45.2131, -118.02602], [40.738152, -74.217528], [37.788751, -120.923293], [27.94340900000001, -82.333634], [34.097977, -118.336585], [28.084412, -82.444807], [34.779614, -118.170479], [39.511157, -77.561578], [37.891443, -122.07968], [45.50727, -122.719], [39.7873, -104.98933999999998], [28.449065, -81.363827], [46.46524, -92.72], [40.664895, -73.996599], [37.701658, -121.769699], [34.11648, -118.17093], [39.83565, -84.63409], [33.326546, -117.159155], [33.928023, -118.297058], [33.989148, -118.287093], [35.596769, -79.817706], [29.973053000000004, -90.060568], [33.742693, -84.499239], [34.14793, -118.082199], [42.518792, -84.83124000000002], [43.186255, -77.630809], [28.42564, -81.39774], [40.75672, -74.11728000000002], [45.06233, -93.15995], [37.657409, -77.446208], [29.991997, -90.049374], [36.07402, -80.25838], [34.071694, -117.871821], [38.52368, -122.49639], [25.62749, -80.37989], [41.52598, -81.65977], [40.098547, -75.394487], [28.567167, -81.286008], [35.21933, -80.84711999999998], [35.545218, -82.660276], [33.801101, -86.825004], [40.761991, -123.285645], [47.67019000000001, -122.3762], [33.923058000000005, -117.654615], [37.36434000000001, -121.901809], [34.08144, -117.731526], [32.923545000000004, -96.760291], [25.769754, -80.330901], [38.268361, -77.493826], [29.703116, -95.379191], [33.818696, -117.240225], [34.803728, -92.368976], [34.285551, -117.992938], [38.428727, -122.715193], [47.56539, -93.64805], [42.02736, -73.994433], [38.830071, -91.016825], [34.072497, -117.940643], [47.977878, -102.128758], [41.296458, -72.75739899999998], [34.15203, -118.14376], [34.50133, -92.70341], [28.495335, -81.396918], [34.010582, -118.144424], [35.557712, -119.797314], [43.0538, -76.17375], [30.44873, -82.93283000000002], [27.950256, -82.746027], [34.058017, -118.253951], [45.064557, -93.218549], [34.005423, -118.282718], [38.861083, -77.351416], [42.349479, -87.871977], [47.450414, -122.266053], [42.98956, -83.63382], [34.125067, -117.69176000000002], [27.858826, -82.326723], [39.997669, -76.055149], [41.41542000000001, -122.382234], [32.700109999999995, -117.09495], [33.524473, -80.583839], [40.10846, -75.323863], [28.420548, -81.404628], [33.936214, -82.291412], [34.153935, -118.347952], [39.78797, -86.16663], [36.985117, -121.981799], [39.50417, -106.14663], [44.030915, -123.582632], [41.95195, -71.0292], [35.865057, -78.7156], [40.03955300000001, -86.376511], [28.509958, -81.257497], [34.062351, -118.248674], [29.657179, -95.570632], [38.221245, -122.455998], [39.414621, -76.660226], [34.01670900000001, -118.041768], [44.95181, -93.08578], [28.612558, -81.476186], [45.06726, -93.18453], [27.446092, -82.530243], [37.807592, -122.367765], [40.016119, -75.619763], [30.391403000000004, -91.162343], [33.021907, -96.709739], [34.001833000000005, -117.353236], [28.341257, -81.484337], [25.6858, -80.399129], [30.19393, -97.740405], [39.033211, -76.85315200000002], [40.014354, -75.357338], [38.465392, -121.371933], [41.795364, -112.054482], [32.8405, -97.35307], [36.782441, -121.779897], [40.24123400000001, -74.527923], [37.651679, -77.61376800000002], [38.864785, -77.331941], [35.17353, -89.83995999999998], [32.219679, -110.98526499999998], [30.023733, -89.992277], [34.822140000000005, -82.286925], [33.74463, -84.39923], [33.884906, -117.633603], [38.240669, -77.500164], [43.10062, -87.91808], [41.058772, -73.822985], [40.70343, -73.72718], [25.627141, -80.383572], [35.324767, -119.037912], [34.136441, -117.392274], [38.957292, -77.107614], [28.692004, -81.547168], [33.615699, -117.706315], [25.781275, -80.33285699999998], [33.916971999999994, -118.370207], [34.493507, -79.325774], [37.535556, -122.075], [45.243941, -122.5844], [27.909545, -82.628636], [38.827264, -77.1187], [33.716390000000004, -84.25827], [34.428364, -117.146321], [33.76603, -117.95734], [37.86948, -122.30474], [35.097531, -119.040244], [40.737442, -73.851862], [37.953205, -79.208651], [34.02483, -84.32225], [41.326628, -72.247692], [39.642501, -106.352976], [32.980847, -117.249049], [25.900112, -80.18693], [34.373098, -84.90756800000003], [28.509201, -81.421529], [41.915953, -87.919604], [33.44043, -82.116821], [36.85332, -120.77625], [25.789972, -80.33673399999998], [42.29355, -83.12775], [37.035475, -121.65631], [36.827272, -76.323769], [43.031284, -88.033764], [39.92322, -86.11891999999996], [26.142805, -80.120181], [34.926671, -81.933718], [35.786342, -78.481201], [25.581611, -80.366138], [25.904649, -80.24203299999998], [25.70034200000001, -80.366155], [39.280475, -121.392665], [36.11361, -95.89635], [48.83413, -95.920607], [37.77645, -122.16407], [32.49317, -93.767942], [47.780104, -122.317469], [36.917957, -81.252189], [41.529752, -73.93274699999998], [38.12533, -84.52775], [33.85917, -118.20152], [29.565426, -82.475706], [32.239904, -86.376221], [40.82141, -73.934488], [40.751649, -78.218203], [33.93153, -118.40102], [29.753413, -95.387798], [42.10608, -91.70521], [33.827290000000005, -118.08229], [32.7799, -117.09705], [42.218731, -83.525991], [30.417078000000004, -91.094978], [44.85886, -93.32881], [40.485267, -74.416511], [32.779537, -96.811556], [35.36785, -80.76436], [38.962293, -76.92926999999997], [41.384817, -73.478199], [40.077506, -76.326886], [39.028114, -77.423802], [24.767931, -80.943522], [29.70539, -95.490898], [45.53054, -122.5991], [30.431063, -91.08038], [38.922372, -77.008977], [29.689940000000004, -95.459115], [39.007977, -94.356518], [45.292374, -118.03458700000002], [42.43308, -83.42739], [34.713288, -92.269776], [43.008715, -77.438698], [38.94399, -76.87782800000002], [33.377782, -112.110048], [33.23234, -117.147288], [45.665391, -118.813222], [36.129582, -79.74512299999998], [33.850003, -117.83558899999998], [32.9242, -96.75759], [38.484595, -81.360271], [46.337101, -94.377494], [39.129341, -77.204049], [34.561421, -118.179314], [35.26462100000001, -80.843228], [40.730699, -111.759764], [41.176167, -73.195585], [29.678875, -95.524533], [32.684128, -96.574647], [40.578155, -74.33134], [42.816699, -87.952987], [39.93647, -83.00944], [32.91441, -96.89786], [36.10774, -79.82811], [38.142034, -78.963902], [33.677789000000004, -117.758405], [33.937089, -118.236406], [38.43911, -81.82963000000002], [34.15338, -118.36461], [30.436819, -91.084461], [40.664621, -73.84524499999998], [33.697718, -84.420973], [39.019246, -77.10769599999998], [33.327251000000004, -117.159265], [41.988365, -87.864049], [37.638149, -120.938961], [39.27718, -77.32316999999998], [27.000432, -82.182384], [40.366377, -76.698295], [34.159932, -118.121444], [33.148989, -117.334439], [31.305563, -89.318724], [25.899671, -80.181294], [32.699244, -96.802696], [33.698233, -84.084216], [40.794135, -73.92235600000002], [38.561856, -121.472641], [42.038622, -83.332741], [27.893991, -82.698778], [38.871806, -76.98214300000002], [37.30437, -121.87863], [38.722507, -120.830265], [41.757586, -72.647754], [33.094770000000004, -96.68022], [44.52315, -120.37373999999998], [37.015589, -76.453717], [39.191209, -78.198738], [33.889462, -117.553643], [42.400725, -83.218376], [37.32709000000001, -121.88048], [32.668049, -97.228879], [34.470442, -117.34599], [33.929479, -81.04875899999998], [43.050302, -83.673774], [40.644553, -111.9343], [33.99062, -117.888948], [46.012763, -111.581966], [33.605643, -117.890529], [40.735077, -74.118528], [41.054438, -73.821676], [28.611937, -81.831714], [38.671361, -121.591327], [34.118508, -118.165403], [38.53703400000001, -121.390762], [33.41095, -117.60117], [27.36712, -82.530698], [33.881439, -117.649561], [25.582591, -80.365905], [34.660965000000004, -82.172096], [32.77581, -117.207951], [29.77787, -95.28718], [34.072493, -118.066981], [35.026822, -120.561214], [40.849331, -73.941016], [38.76714000000001, -90.772], [32.661367, -97.270073], [41.25141, -122.12281000000002], [42.607908, -71.034035], [40.014249, -78.199966], [45.77165, -117.269729], [36.097882, -119.509528], [34.143111, -118.021051], [37.654458, -77.450778], [27.98143, -82.44294000000002], [38.86769, -76.99037], [38.903966, -77.21615600000001], [44.9531, -93.08235], [35.92472, -89.87423000000004], [34.751161, -92.162793], [30.18308, -81.558562], [37.730059, -122.439598], [33.371671, -117.55523], [27.20733, -82.490213], [41.319161, -72.89386800000003], [36.08904, -96.0102], [28.814603, -81.405674], [40.851963, -73.92109], [37.987213, -121.250655], [33.941035, -118.279697], [34.03325, -118.13003799999998], [29.966319, -90.110849], [34.18023, -118.31291], [38.113814, -79.02893900000002], [29.78503, -95.56847], [33.881377, -117.648877], [38.796576, -77.134848], [25.80329, -80.38600000000002], [37.73936, -121.59071000000002], [34.625832, -82.603718], [34.139682, -117.955666], [44.983614, -122.994067], [37.41058, -122.07425], [33.883336, -117.353088], [32.723125, -96.874233], [33.986173, -118.397737], [34.13555, -117.98448], [33.668943, -112.075363], [42.483636, -120.282168], [35.37279, -80.77983], [32.539077, -86.45648], [38.11608, -121.422552], [38.267086, -121.30105], [40.346549, -111.76386200000002], [40.206598, -75.139746], [39.960209000000006, -75.18097], [28.33629, -81.54215], [40.11377, -76.481102], [27.76297000000001, -82.66218], [36.07116, -95.868556], [40.73221, -73.91926], [33.927917, -118.25428], [25.954236, -80.120401], [37.577133, -77.46446], [42.549387, -123.370723], [33.751090000000005, -84.456419], [27.83928400000001, -82.765165], [37.82339, -122.263916], [38.72413, -90.331549], [27.752088, -82.653125], [40.630428, -111.877856], [32.791925, -96.746453], [30.021471, -90.068445], [40.68258, -73.66615], [38.7709, -90.2535], [41.5814, -73.49131], [40.117125, -76.177228], [40.008978000000006, -75.068049], [34.009966, -118.058807], [32.677467, -97.062158], [33.50305, -112.268433], [35.03197, -107.467521], [37.613765, -77.496668], [28.728216, -81.50898199999997], [38.605619, -76.952075], [35.374818, -119.021203], [28.989438, -81.727994], [28.452685, -80.91773], [47.59209600000001, -122.698471], [33.869783, -118.284839], [35.2286, -80.82891], [41.97304000000001, -88.03153], [28.004324, -82.302515], [40.01502, -78.47099], [38.455991, -121.405255], [38.885818, -89.840365], [29.880042, -95.195082], [36.898192, -121.55634], [42.96325, -85.70786], [33.371121, -84.41265], [42.18383, -88.19095], [34.117863, -117.864461], [37.69813, -121.94081], [45.217394, -93.596778], [39.689816, -86.871117], [43.644225, -123.583145], [43.013824, -88.230074], [37.892867, -122.125014], [30.38908300000001, -97.647513], [40.25441, -76.86471], [34.029022, -117.575559], [47.321907, -122.295201], [38.733276, -90.349892], [28.002252, -82.324836], [41.089221, -112.044843], [46.818323, -95.864592], [33.939111, -79.713761], [38.883007, -77.031036], [45.64683, -110.889011], [41.9003, -87.91969], [35.236555, -112.224944], [41.80629, -88.15708199999996], [39.752751, -86.220349], [38.879449, -77.246792], [28.364505, -81.366157], [34.063625, -117.54511399999998], [30.036135, -90.010543], [42.46637, -88.07995], [41.80513300000001, -88.187636], [28.069316, -82.463464], [36.735505, -119.859998], [36.942417, -76.266432], [33.76774, -84.5322], [40.031812, -75.610955], [40.059188, -76.363617], [45.358731, -122.616099], [40.377499, -75.988031], [39.930516, -86.14941999999998], [38.694782, -121.354412], [29.689749, -95.559317], [25.891836, -80.212982], [41.27985, -78.699933], [33.920577, -118.082588], [41.426364, -73.625103], [33.069823, -86.730161], [46.765097, -92.11932], [33.94747, -118.36829], [34.012219, -118.418573], [33.955918, -118.295919], [34.04696, -118.44679], [35.630457, -78.566271], [29.70698, -95.23271], [30.533103000000004, -87.27462299999998], [41.748046, -72.660218], [40.60021, -74.06456], [34.796436, -82.218902], [33.970291, -118.2564], [34.235415, -118.449392], [34.23274, -118.47299], [34.155877000000004, -117.83661], [33.42753, -112.05232], [40.653057, -111.95069], [47.72951, -122.32416], [29.624386, -95.396947], [36.723483, -121.781691], [37.903123, -122.515557], [35.80157600000001, -78.609184], [29.80721, -95.45615], [33.946901000000004, -118.100305], [39.98879, -83.04444000000002], [32.771537, -96.789272], [34.05191, -117.180085], [42.36147, -83.07294], [30.270312, -97.754637], [28.449914, -81.481045], [40.58504, -73.954985], [38.892419, -76.847041], [40.679463, -73.69682900000002], [39.378716, -77.47268000000003], [37.9948, -122.06953], [41.342485, -75.732303], [35.287846, -80.772301], [43.318003, -122.82814], [41.711879, -72.587496], [38.871269, -77.174576], [45.33014, -118.07132], [30.491051, -84.242048], [45.541972, -122.381373], [38.2438, -77.50336], [33.9086, -117.453], [42.76631, -76.1188], [28.545722, -81.371579], [25.845638, -80.2516], [38.749822, -121.540268], [37.613056, -77.363137], [43.216536, -78.386049], [37.799486, -122.274148], [34.069852000000004, -118.109288], [37.488645, -76.969195], [45.805939, -108.433459], [35.10425, -80.98917], [42.947461, -85.64641999999998], [36.440793, -94.238447], [37.754291, -121.361793], [25.689146, -80.38287199999998], [39.883857, -75.10376600000002], [39.20692, -94.63561], [27.05753300000001, -82.26009300000003], [25.931221, -80.20430400000002], [45.705217, -120.300732], [25.890103, -80.18996700000002], [28.49669, -80.83456], [43.397433, -73.623113], [42.708018, -86.164357], [35.859655, -78.68075999999998], [33.78989, -84.49068], [38.947166, -77.297283], [37.318314, -121.889544], [33.709499, -117.936824], [25.78613, -80.213043], [38.886555, -77.221003], [26.188314, -80.16129699999998], [39.93522700000001, -75.394417], [34.92873, -89.99377], [38.83847700000001, -77.440997], [37.53385, -77.42243], [35.37716, -119.110339], [42.305919, -87.961844], [37.595184, -122.058277], [42.97455, -83.69283], [33.961018, -117.31777], [32.764075, -96.856717], [44.948259, -92.941679], [39.09626, -94.64944], [25.72108, -80.31877], [32.69715, -97.06283], [41.971683, -77.227836], [38.41611, -82.346273], [33.744525, -118.004957], [37.314322, -78.482175], [25.649445, -80.34878499999998], [33.775438, -118.087717], [34.03715, -117.55006000000002], [39.05358, -94.47833], [26.54875800000001, -81.839259], [43.05552, -76.17045], [29.957627, -90.067962], [42.23482, -72.1423], [44.91711, -122.98922], [34.08739, -117.676455], [40.73592, -75.961923], [36.546911, -119.538813], [33.836240000000004, -117.71763], [41.711562, -112.171229], [34.507394, -118.36793], [39.21882, -76.699773], [39.624062, -74.842626], [33.68538, -84.40372099999998], [42.60536, -71.32051], [34.041208000000005, -118.064316], [32.69767, -96.64389], [35.202044, -80.759693], [25.941223, -80.306794], [35.218037, -80.81803599999998], [39.801522, -85.995215], [33.115936, -117.099183], [44.86408, -93.09028], [40.845268, -73.927763], [34.027522999999995, -118.036943], [30.488433, -86.434724], [34.073061, -118.219156], [32.852859, -96.644173], [40.777583, -73.99014100000002], [35.964335, -119.268382], [29.788674, -95.468127], [35.127164, -118.411084], [35.2583, -80.73614], [40.87526, -73.41476], [38.453437, -121.371787], [38.15424, -85.71613599999998], [33.6791, -79.778518], [37.145329, -93.256092], [43.637362, -95.357626], [32.45111, -93.86091], [34.948864, -80.846129], [30.293246000000003, -85.643175], [32.92595900000001, -96.805646], [33.997181, -117.550522], [43.6241, -83.95456], [41.43599, -72.64499], [32.696036, -117.112484], [33.637073, -112.003932], [32.916809, -96.859384], [33.914675, -112.145553], [34.004316, -118.165933], [38.411739, -122.794941], [34.166632, -118.299139], [41.08791, -73.45706700000002], [37.471891, -77.52677], [37.155901, -121.655141], [33.957289, -84.119945], [34.054156, -79.736747], [25.925542, -80.29089499999998], [32.972590999999994, -117.250502], [41.120871, -100.882891], [41.038872, -73.674315], [34.032376, -118.222395], [41.76435, -72.6314], [37.780379, -122.173738], [32.791386, -117.159302], [35.098782, -80.98995], [44.951711, -95.717856], [29.69037, -95.45889], [25.866547, -80.338994], [28.049943, -82.69588], [32.88421, -96.69716], [40.923678, -73.773325], [38.580654, -121.401504], [33.851923, -118.205069], [37.887704, -122.309224], [39.1514, -120.96674], [38.683074, -121.429138], [27.846605, -82.34692700000002], [25.733216, -80.287211], [40.70682, -74.1991], [33.925819, -117.536755], [43.010665, -83.676331], [27.644659000000004, -80.519667], [32.76653, -96.90511], [27.87964, -82.745765], [32.016312, -106.451836], [40.114787, -75.28568299999998], [29.77068, -95.16908], [38.59505, -90.3265], [41.316372, -73.010491], [32.72416, -117.15218], [30.185864, -81.739277], [47.24111, -122.3517], [39.104, -77.181562], [40.634935, -74.144992], [41.900221, -87.88372], [37.935357, -121.302996], [35.320991, -93.186668], [27.473362, -82.557898], [33.694166, -117.931157], [45.66654000000001, -94.80678], [41.101838, -92.410007], [34.071325, -118.134484], [33.960883, -117.37776399999998], [42.85287, -85.530785], [27.77634500000001, -82.63710999999998], [39.307467, -78.078724], [37.935357, -121.302996], [34.071545, -117.200562], [38.745596, -77.186915], [28.082331, -82.560507], [33.927495, -118.27183], [33.817698, -117.965854], [33.547961, -117.648208], [37.652312, -77.615961], [33.876459000000004, -118.19019], [39.436637, -76.37700799999998], [41.322257, -73.99486999999998], [33.974644, -118.28635], [44.93128, -93.1397], [26.71498900000001, -81.816281], [37.904737, -121.222761], [43.424674, -83.890648], [40.44925300000001, -75.254227], [33.901070000000004, -117.46963], [38.558201, -121.473658], [27.559302, -80.48136], [32.836543, -96.778915], [33.876287, -118.067437], [30.2929, -81.63205500000002], [40.328825, -120.545049], [30.248193, -81.514845], [45.52923, -122.66523], [32.846857, -87.95144599999998], [33.865882, -117.260974], [37.400872, -122.036997], [33.945415999999994, -118.324289], [40.297089, -75.52095899999998], [42.778817, -88.31671700000004]],\n",
              "                {&quot;blur&quot;: 15, &quot;maxZoom&quot;: 18, &quot;minOpacity&quot;: 0.5, &quot;radius&quot;: 25}\n",
              "            ).addTo(map_492b9a98146ec8186f06e5afb0ea99ed);\n",
              "        \n",
              "&lt;/script&gt;\" style=\"position:absolute;width:100%;height:100%;left:0;top:0;border:none !important;\" allowfullscreen webkitallowfullscreen mozallowfullscreen></iframe></div></div>"
            ]
          },
          "metadata": {},
          "execution_count": 65
        }
      ]
    },
    {
      "cell_type": "markdown",
      "source": [
        "## Ask and Answer Questions\n",
        "\n",
        "1. Does the weather condition affect the accidents number?\n",
        "\n",
        "2. Does traffic increase the accidents?\n",
        "\n",
        "3. When is accidents per unit of traffic the highest.\n",
        "\n",
        "4. are there more accidnts in warmer or colder area?\n",
        "\n",
        "5. Which 5 state had the highest number of accidents?\n",
        "\n",
        "6. Does New York show up in the data? If yes, why is the count lower if this the most populated city.\n",
        "   \n",
        "7. Among the top 100 cities in number of accidents, which states do they belong to most frequently.\n",
        "  \n",
        "8. What time of the day are accidents most frequent in? - ANSWERED\n",
        "    \n",
        "9. Which days of the week have the most accidents?\n",
        "    \n",
        "10. Which months have the most accidents?\n",
        "\n",
        "11. What is the trend of accidents year over year (decreasing/increasing?)\n",
        "   \n",
        "\n",
        "\n"
      ],
      "metadata": {
        "id": "Atb_a9KJ3HD_"
      }
    },
    {
      "cell_type": "markdown",
      "source": [
        "## Summary and Conclusion\n",
        "\n",
        "Insights:\n",
        "\n",
        "- No data from New York\n",
        "- The number of accidents per city decreases exponentially\n",
        "- Less than 5% of cities have more than 1000 yearly accidents.\n",
        "- Over 1200 cities have reported just one accident (need to investigate)\n",
        "- Not enough data for traffic.\n",
        "- There is something wrong in data in the week days the accidents increased in the middle of the day and that is wired.\n",
        "- The accidents increase only from sep to december not the rest of the winter.\n",
        "- This data contain only a full data about 2021, Other years not we have less data.\n",
        "- In Sundays the accidents is high in all over the day especially between 10 AM to 5 PM\n",
        "- In Mondays only increase from 12 Pm to 5 PM\n"
      ],
      "metadata": {
        "id": "MOSQui7Y3L3_"
      }
    }
  ],
  "metadata": {
    "kernelspec": {
      "display_name": "Python 3",
      "language": "python",
      "name": "python3"
    },
    "language_info": {
      "codemirror_mode": {
        "name": "ipython",
        "version": 3
      },
      "file_extension": ".py",
      "mimetype": "text/x-python",
      "name": "python",
      "nbconvert_exporter": "python",
      "pygments_lexer": "ipython3",
      "version": "3.7.6"
    },
    "colab": {
      "provenance": [],
      "collapsed_sections": []
    }
  },
  "nbformat": 4,
  "nbformat_minor": 0
}